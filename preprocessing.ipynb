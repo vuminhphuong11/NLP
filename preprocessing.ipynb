{
 "cells": [
  {
   "cell_type": "markdown",
   "metadata": {},
   "source": [
    "### #import thư viện cần thiết"
   ]
  },
  {
   "cell_type": "code",
   "execution_count": 10,
   "metadata": {},
   "outputs": [],
   "source": [
    "import re# thư viện để python làm việc với biểu thức chính quy\n",
    "import csv# thư viện để xử lí file .csv\n",
    "import numpy as np\n",
    "import pandas as pd\n",
    "import tensorflow as tf\n",
    "import pickle\n",
    "import matplotlib.pyplot as plt\n",
    "from sklearn.model_selection import train_test_split\n",
    "from tensorflow.keras.utils import to_categorical\n",
    "from tensorflow.keras.preprocessing.text import Tokenizer\n",
    "from tensorflow.keras.preprocessing.sequence import pad_sequences\n",
    "from pyvi import ViTokenizer# thư viện để tokenize\n",
    "from pyvi import ViUtils "
   ]
  },
  {
   "cell_type": "markdown",
   "metadata": {},
   "source": [
    "### # ghi dữ liệu sang một file mới\n",
    "### # loại bỏ stopword, kí tự, viết hoa\n",
    "### # kiểm tra xem có comment hoặc label nào bị trống không"
   ]
  },
  {
   "cell_type": "code",
   "execution_count": 3,
   "metadata": {},
   "outputs": [
    {
     "name": "stdout",
     "output_type": "stream",
     "text": [
      "Các dòng sau có dữ liệu trống ở cột 'Comment' hoặc 'Label': [2401, 2868]\n",
      "Dữ liệu đã được ghi vào processed_data.csv\n"
     ]
    }
   ],
   "source": [
    "# đọc dữ liệu từ file gốc và sau đó loại bỏ stopwords và lưu lại vào file ra\n",
    "input_file_path = 'raw_data.csv'  # File CSV cần xử lý\n",
    "output_file_path = 'processed_data.csv'       # File CSV đầu ra\n",
    "# Hàm đọc danh sách stopwords từ file\n",
    "def load_stopwords(file_path):\n",
    "    with open(file_path, 'r', encoding='utf-8') as f:\n",
    "        stopwords = set(f.read().splitlines())  # Đọc từng dòng và lưu vào set\n",
    "    return stopwords\n",
    "# Lấy danh sách stopwords từ file\n",
    "stopwords = load_stopwords('vietnamese_stopwords.txt')\n",
    "# Hàm làm sạch văn bản\n",
    "def clean_text(text):\n",
    "    # Chuyển tất cả chữ về dạng viết thường\n",
    "    text = text.lower()\n",
    "    # Loại bỏ emoji, ký tự đặc biệt, chỉ giữ lại chữ cái và khoảng trắng\n",
    "    text = re.sub(r'[^\\w\\sáàạảãạăắằặẳẵâấầậẩẫéèẹẻẽêếềệểễíìịỉĩóòọỏõôốồộổỗơớờợởỡúùụủũưứừựửữýỳýỵỷỹđ]', '', text)\n",
    "    # Loại bỏ stopwords\n",
    "    text = ' '.join([word for word in text.split() if word not in stopwords])\n",
    "    return text\n",
    "# Đọc dữ liệu từ file CSV\n",
    "try:\n",
    "    with open(input_file_path, 'r', encoding='utf-8') as f:\n",
    "        reader = csv.DictReader(f)\n",
    "        data1 = list(reader)  # Đọc toàn bộ dữ liệu từ file CSV\n",
    "except FileNotFoundError:\n",
    "    print(f\"Không tìm thấy file: {input_file_path}\")\n",
    "    exit()\n",
    "except csv.Error:\n",
    "    print(f\"Lỗi khi đọc file CSV: {input_file_path}\")\n",
    "    exit()\n",
    "# Lọc và xử lý các mục comment, kiểm tra label và chỉ ghi lại những phần hợp lệ\n",
    "processed_data1 = []\n",
    "empty_rows = []  # Danh sách lưu dòng có dữ liệu trống\n",
    "for index, item in enumerate(data1):\n",
    "    comment = item.get('Comment', '').strip()\n",
    "    label = item.get('Label', '').strip()\n",
    "    # Kiểm tra dòng nào có dữ liệu bị trống\n",
    "    if not comment or not label:\n",
    "        empty_rows.append(index + 1)  # Lưu chỉ mục dòng (bắt đầu từ 1)\n",
    "        continue\n",
    "    # Xử lý comment\n",
    "    cleaned_comment = clean_text(comment)\n",
    "    processed_data1.append({'Comment': cleaned_comment, 'Label': label})\n",
    "# Báo các dòng có dữ liệu bị trống\n",
    "if empty_rows:\n",
    "    print(f\"Các dòng sau có dữ liệu trống ở cột 'Comment' hoặc 'Label': {empty_rows}\")\n",
    "# Ghi lại dữ liệu đã xử lý vào file CSV mới\n",
    "try:\n",
    "    with open(output_file_path, 'w', encoding='utf-8', newline='') as f:\n",
    "        writer = csv.DictWriter(f, fieldnames=['Comment', 'Label'])\n",
    "        writer.writeheader()  # Ghi tiêu đề cột\n",
    "        writer.writerows(processed_data1)  # Ghi dữ liệu\n",
    "    print(f\"Dữ liệu đã được ghi vào {output_file_path}\")\n",
    "except IOError:\n",
    "    print(f\"Không thể ghi dữ liệu vào file {output_file_path}\")"
   ]
  },
  {
   "cell_type": "code",
   "execution_count": 4,
   "metadata": {},
   "outputs": [
    {
     "name": "stdout",
     "output_type": "stream",
     "text": [
      "Số lượng comment có hơn 500 từ: 16\n",
      "Số lượng comment có 500 từ trở xuống: 8063\n",
      "\n",
      "Một số ví dụ trong nhóm có hơn 500 từ:\n",
      "                                                Comment     Label\n",
      "232   điên có đôi lời tựa của phần này có lẽ không h...  positive\n",
      "239   với mình nếu tách những cảnh tưởng tượng ra kh...  positive\n",
      "1336  giờ chưa từng phân tích phim hay bình luận suy...  negative\n",
      "1380  về điểm khen mình không kiến còn về phần chê b...  negative\n",
      "1386  có lẽ là câu chuyện quan điểm cá nhân mình khô...  positive\n",
      "\n",
      "Một số ví dụ trong nhóm có dưới 500 từ:\n",
      "                                             Comment     Label\n",
      "0  p1 kiệt tác mọi thời đại rồi nên cũng đừng kì ...   neutral\n",
      "1  phần 2 gần là 1 phần bôi nhọ phần 1 ai lại có ...  negative\n",
      "2  năm nay kiểu gì toàn bom tấn thành bom xịt phi...  negative\n",
      "3  đúng là cảm xúc các đoạn cao trào vẫn làm chưa...   neutral\n",
      "4           phim khúc cuối nó dở 1 cái phim việt nam  negative\n"
     ]
    }
   ],
   "source": [
    "# phân loại từ cơ bản để xem có bao nhiêu từ hơn 400 từ\n",
    "def classify_comments_by_length(csv_file_path):\n",
    "    # Đọc dữ liệu từ file CSV\n",
    "    df = pd.read_csv(csv_file_path)  \n",
    "    # Kiểm tra xem cột 'comment' có tồn tại trong dữ liệu không\n",
    "    if 'Comment' not in df.columns:\n",
    "        raise ValueError(\"File CSV không chứa cột 'comment'\")  \n",
    "    # Hàm để đếm số lượng từ trong một comment\n",
    "    def count_words(text):\n",
    "        if isinstance(text, str):  # Kiểm tra xem text có phải là chuỗi không\n",
    "            return len(text.split())\n",
    "        return 0  \n",
    "    # Phân loại thành hai nhóm: nhóm có trên 500 từ và nhóm có dưới 400 từ\n",
    "    group_above_400 = df[df['Comment'].apply(count_words) > 400]\n",
    "    group_below_400 = df[df['Comment'].apply(count_words) <= 400]  \n",
    "    # In ra số lượng dòng trong mỗi nhóm\n",
    "    print(f\"Số lượng comment có hơn 400 từ: {len(group_above_400)}\")\n",
    "    print(f\"Số lượng comment có 400 từ trở xuống: {len(group_below_400)}\")   \n",
    "    return group_above_400, group_below_400\n",
    "# Đường dẫn tới file CSV của bạn\n",
    "csv_file_path = 'processed_data.csv'\n",
    "# Gọi hàm để phân loại các comment\n",
    "group_above_500, group_below_500 = classify_comments_by_length(csv_file_path)\n",
    "# In ra ví dụ cho mỗi nhóm\n",
    "print(\"\\nMột số ví dụ trong nhóm có hơn 400 từ:\")\n",
    "print(group_above_500.head())\n",
    "print(\"\\nMột số ví dụ trong nhóm có dưới 400 từ:\")\n",
    "print(group_below_500.head())\n"
   ]
  },
  {
   "cell_type": "code",
   "execution_count": 5,
   "metadata": {},
   "outputs": [
    {
     "data": {
      "text/html": [
       "<div>\n",
       "<style scoped>\n",
       "    .dataframe tbody tr th:only-of-type {\n",
       "        vertical-align: middle;\n",
       "    }\n",
       "\n",
       "    .dataframe tbody tr th {\n",
       "        vertical-align: top;\n",
       "    }\n",
       "\n",
       "    .dataframe thead th {\n",
       "        text-align: right;\n",
       "    }\n",
       "</style>\n",
       "<table border=\"1\" class=\"dataframe\">\n",
       "  <thead>\n",
       "    <tr style=\"text-align: right;\">\n",
       "      <th></th>\n",
       "      <th>Comment</th>\n",
       "      <th>Label</th>\n",
       "    </tr>\n",
       "  </thead>\n",
       "  <tbody>\n",
       "    <tr>\n",
       "      <th>0</th>\n",
       "      <td>p1 kiệt tác mọi thời đại rồi nên cũng đừng kì ...</td>\n",
       "      <td>neutral</td>\n",
       "    </tr>\n",
       "    <tr>\n",
       "      <th>1</th>\n",
       "      <td>phần 2 gần là 1 phần bôi nhọ phần 1 ai lại có ...</td>\n",
       "      <td>negative</td>\n",
       "    </tr>\n",
       "    <tr>\n",
       "      <th>2</th>\n",
       "      <td>năm nay kiểu gì toàn bom tấn thành bom xịt phi...</td>\n",
       "      <td>negative</td>\n",
       "    </tr>\n",
       "    <tr>\n",
       "      <th>3</th>\n",
       "      <td>đúng là cảm xúc các đoạn cao trào vẫn làm chưa...</td>\n",
       "      <td>neutral</td>\n",
       "    </tr>\n",
       "    <tr>\n",
       "      <th>4</th>\n",
       "      <td>phim khúc cuối nó dở 1 cái phim việt nam</td>\n",
       "      <td>negative</td>\n",
       "    </tr>\n",
       "  </tbody>\n",
       "</table>\n",
       "</div>"
      ],
      "text/plain": [
       "                                             Comment     Label\n",
       "0  p1 kiệt tác mọi thời đại rồi nên cũng đừng kì ...   neutral\n",
       "1  phần 2 gần là 1 phần bôi nhọ phần 1 ai lại có ...  negative\n",
       "2  năm nay kiểu gì toàn bom tấn thành bom xịt phi...  negative\n",
       "3  đúng là cảm xúc các đoạn cao trào vẫn làm chưa...   neutral\n",
       "4           phim khúc cuối nó dở 1 cái phim việt nam  negative"
      ]
     },
     "execution_count": 5,
     "metadata": {},
     "output_type": "execute_result"
    }
   ],
   "source": [
    "data = pd.read_csv('processed_data.csv')\n",
    "data.head()"
   ]
  },
  {
   "cell_type": "markdown",
   "metadata": {},
   "source": [
    "### #Lọc comment và label"
   ]
  },
  {
   "cell_type": "code",
   "execution_count": 6,
   "metadata": {},
   "outputs": [
    {
     "data": {
      "text/html": [
       "<div>\n",
       "<style scoped>\n",
       "    .dataframe tbody tr th:only-of-type {\n",
       "        vertical-align: middle;\n",
       "    }\n",
       "\n",
       "    .dataframe tbody tr th {\n",
       "        vertical-align: top;\n",
       "    }\n",
       "\n",
       "    .dataframe thead th {\n",
       "        text-align: right;\n",
       "    }\n",
       "</style>\n",
       "<table border=\"1\" class=\"dataframe\">\n",
       "  <thead>\n",
       "    <tr style=\"text-align: right;\">\n",
       "      <th></th>\n",
       "      <th>Comment</th>\n",
       "      <th>Label</th>\n",
       "    </tr>\n",
       "  </thead>\n",
       "  <tbody>\n",
       "    <tr>\n",
       "      <th>0</th>\n",
       "      <td>p1 kiệt tác mọi thời đại rồi nên cũng đừng kì ...</td>\n",
       "      <td>neutral</td>\n",
       "    </tr>\n",
       "    <tr>\n",
       "      <th>1</th>\n",
       "      <td>phần 2 gần là 1 phần bôi nhọ phần 1 ai lại có ...</td>\n",
       "      <td>negative</td>\n",
       "    </tr>\n",
       "    <tr>\n",
       "      <th>2</th>\n",
       "      <td>năm nay kiểu gì toàn bom tấn thành bom xịt phi...</td>\n",
       "      <td>negative</td>\n",
       "    </tr>\n",
       "    <tr>\n",
       "      <th>3</th>\n",
       "      <td>đúng là cảm xúc các đoạn cao trào vẫn làm chưa...</td>\n",
       "      <td>neutral</td>\n",
       "    </tr>\n",
       "    <tr>\n",
       "      <th>4</th>\n",
       "      <td>phim khúc cuối nó dở 1 cái phim việt nam</td>\n",
       "      <td>negative</td>\n",
       "    </tr>\n",
       "  </tbody>\n",
       "</table>\n",
       "</div>"
      ],
      "text/plain": [
       "                                             Comment     Label\n",
       "0  p1 kiệt tác mọi thời đại rồi nên cũng đừng kì ...   neutral\n",
       "1  phần 2 gần là 1 phần bôi nhọ phần 1 ai lại có ...  negative\n",
       "2  năm nay kiểu gì toàn bom tấn thành bom xịt phi...  negative\n",
       "3  đúng là cảm xúc các đoạn cao trào vẫn làm chưa...   neutral\n",
       "4           phim khúc cuối nó dở 1 cái phim việt nam  negative"
      ]
     },
     "execution_count": 6,
     "metadata": {},
     "output_type": "execute_result"
    }
   ],
   "source": [
    "st_data =pd.DataFrame({'Comment': data['Comment'],'Label': data['Label']})\n",
    "st_data = st_data.dropna()\n",
    "st_data = st_data.reset_index(drop=True)\n",
    "st_data.head()"
   ]
  },
  {
   "cell_type": "code",
   "execution_count": 7,
   "metadata": {},
   "outputs": [
    {
     "name": "stdout",
     "output_type": "stream",
     "text": [
      "Số lượng các nhãn trong cột 'Label' là:\n",
      "neutral: 2735\n",
      "negative: 2725\n",
      "positive: 2619\n"
     ]
    }
   ],
   "source": [
    "#đếm số lượng các nhãn\n",
    "import pandas as pd\n",
    "def count_labels_in_csv(file_path, label_column):\n",
    "    try:\n",
    "        # Đọc file CSV\n",
    "        data = pd.read_csv(file_path)\n",
    "        # Kiểm tra cột label có tồn tại không\n",
    "        if label_column not in data.columns:\n",
    "            print(f\"Cột '{label_column}' không tồn tại trong file CSV.\")\n",
    "            return\n",
    "        # Đếm số lượng xuất hiện của mỗi nhãn\n",
    "        label_counts = data[label_column].value_counts()\n",
    "        # In kết quả\n",
    "        print(\"Số lượng các nhãn trong cột '{}' là:\".format(label_column))\n",
    "        for label, count in label_counts.items():\n",
    "            print(f\"{label}: {count}\")\n",
    "    except FileNotFoundError:\n",
    "        print(\"File không tồn tại. Vui lòng kiểm tra đường dẫn.\")\n",
    "    except Exception as e:\n",
    "        print(f\"Đã xảy ra lỗi: {e}\")\n",
    "# Ví dụ sử dụng\n",
    "file_path = \"processed_data.csv\"  # Thay đường dẫn đến file CSV của bạn\n",
    "label_column = \"Label\"  # Thay tên cột Label của bạn\n",
    "count_labels_in_csv(file_path, label_column)\n"
   ]
  },
  {
   "cell_type": "markdown",
   "metadata": {},
   "source": [
    "### # Tạo một bản sao không có dấu, tokenization & lưu tạm"
   ]
  },
  {
   "cell_type": "code",
   "execution_count": 8,
   "metadata": {},
   "outputs": [],
   "source": [
    "input_comment = st_data['Comment'].values\n",
    "input_label = st_data['Label'].values\n",
    "label_dictionary ={'positive':2,'neutral':1,'negative':0}\n",
    "input_pre =[]\n",
    "label_accent =[]\n",
    "for idx, dt in enumerate(input_comment):\n",
    "    input_text_pre =list(tf.keras.preprocessing.text.text_to_word_sequence(dt))\n",
    "    input_text_pre = \" \".join(input_text_pre)\n",
    "    input_text_pre_no_accent = str(ViUtils.remove_accents(input_text_pre).decode(\"utf-8\"))# phần này là phần đã loại bỏ dấu\n",
    "    input_text_pre_accent =ViTokenizer.tokenize(input_text_pre)# tokenization cho văn bản có dấu\n",
    "    input_text_pre_no_accent = ViTokenizer.tokenize(input_text_pre_no_accent)# tokenization cho văn bản đã loại bỏ dấu\n",
    "    input_pre.append(input_text_pre_accent)\n",
    "    input_pre.append(input_text_pre_no_accent)\n",
    "    label_accent.append(input_label[idx])\n",
    "    label_accent.append(input_label[idx])"
   ]
  },
  {
   "cell_type": "code",
   "execution_count": 12,
   "metadata": {},
   "outputs": [
    {
     "data": {
      "image/png": "[encoded data removed]",
      "text/plain": [
       "<Figure size 640x480 with 1 Axes>"
      ]
     },
     "metadata": {},
     "output_type": "display_data"
    }
   ],
   "source": [
    "# lấy thông số và kiểm tra tần xuất\n",
    "seq_len =[len(i.split())for i in input_pre[0:7000]]\n",
    "pd.Series(seq_len).hist(bins =30)\n",
    "plt.show()\n"
   ]
  },
  {
   "cell_type": "code",
   "execution_count": 11,
   "metadata": {},
   "outputs": [
    {
     "name": "stdout",
     "output_type": "stream",
     "text": [
      "Saved raw data to processed_data.csv\n",
      "comment data.shape:  (16152, 400)\n",
      "data_voca_size:  11506\n",
      "training sample:  11306\n",
      "validation sample:  2423\n",
      "test sample:  2423\n",
      "Saved tokenized data to training_data_tokenized.csv\n",
      "Saved tokenized data to val_data_tokenized.csv\n",
      "Saved tokenized data to test_data_tokenized.csv\n",
      "Saved processed data to training_data_processed.csv\n",
      "Saved processed data to val_data_processed.csv\n",
      "Saved processed data to test_data_processed.csv\n"
     ]
    }
   ],
   "source": [
    "# Chuyển đổi nhãn thành số và dạng one_hot coding\n",
    "label_idx = [label_dictionary[i] for i in label_accent]\n",
    "label_tf = to_categorical(label_idx, num_classes=3)\n",
    "def save_processed_data(input_texts, labels, file_name):\n",
    "    data = pd.DataFrame({'text': input_texts, 'label': labels})\n",
    "    data.to_csv(file_name, index=False)\n",
    "    print(f\"Saved raw data to {file_name}\")\n",
    "save_processed_data(input_pre, label_accent, \"processed_data.csv\")\n",
    "# Tạo tokenizer và xử lý văn bản\n",
    "tokenizer_data = Tokenizer(oov_token='<OOV>', split=' ')\n",
    "tokenizer_data.fit_on_texts(input_pre)\n",
    "# Chuyển văn bản thành các chuỗi số và padding các chuỗi số\n",
    "tokenizer_data_text = tokenizer_data.texts_to_sequences(input_pre)\n",
    "vec_data = pad_sequences(tokenizer_data_text, padding='post', maxlen=400)\n",
    "# Lưu tokenizer đã huấn luyện vào file pickle\n",
    "pickle.dump(tokenizer_data, open(\"tokenizer_data.pkl\", \"wb\"))\n",
    "print(\"comment data.shape: \", vec_data.shape)\n",
    "# Tính lại data_voca_size từ tokenizer\n",
    "data_voca_size = len(tokenizer_data.word_index) + 1\n",
    "print(\"data_voca_size: \", data_voca_size)\n",
    "# Chia tập dữ liệu thành train, validation, và test\n",
    "x_train, x_temp, y_train, y_temp = train_test_split(vec_data, label_tf, test_size=0.3, random_state=42)\n",
    "x_val, x_test, y_val, y_test = train_test_split(x_temp, y_temp, test_size=0.5, random_state=42)\n",
    "print(\"training sample: \", len(x_train))\n",
    "print(\"validation sample: \", len(x_val))\n",
    "print(\"test sample: \", len(x_test))\n",
    "# Lưu dữ liệu đã tokenized vào các file CSV\n",
    "def save_tokenized_data(input_data, labels, file_name):\n",
    "    data = pd.DataFrame({'text': input_data, 'label': labels})\n",
    "    data.to_csv(file_name, index=False)\n",
    "    print(f\"Saved tokenized data to {file_name}\")\n",
    "# Lưu dữ liệu train, validation, và test đã tokenized\n",
    "save_tokenized_data(input_pre[:len(x_train)], label_accent[:len(x_train)], \"training_data_tokenized.csv\")\n",
    "save_tokenized_data(input_pre[len(x_train):len(x_train) + len(x_val)], label_accent[len(x_train):len(x_train) + len(x_val)], \"val_data_tokenized.csv\")\n",
    "save_tokenized_data(input_pre[len(x_train) + len(x_val):], label_accent[len(x_train) + len(x_val):], \"test_data_tokenized.csv\")\n",
    "# Lưu dữ liệu đã xử lý vào CSV\n",
    "def save_processed_data(features, labels, file_name):\n",
    "    data = pd.DataFrame(features)\n",
    "    labels = pd.DataFrame(labels, columns=[f\"label_{i}\" for i in range(labels.shape[1])])\n",
    "    combined = pd.concat([data, labels], axis=1)\n",
    "    combined.to_csv(file_name, index=False)\n",
    "    print(f\"Saved processed data to {file_name}\")\n",
    "save_processed_data(x_train, y_train, \"training_data_processed.csv\")\n",
    "save_processed_data(x_val, y_val, \"val_data_processed.csv\")\n",
    "save_processed_data(x_test, y_test, \"test_data_processed.csv\")"
   ]
  }
 ],
 "metadata": {
  "kernelspec": {
   "display_name": "Python 3",
   "language": "python",
   "name": "python3"
  },
  "language_info": {
   "codemirror_mode": {
    "name": "ipython",
    "version": 3
   },
   "file_extension": ".py",
   "mimetype": "text/x-python",
   "name": "python",
   "nbconvert_exporter": "python",
   "pygments_lexer": "ipython3",
   "version": "3.11.0"
  }
 },
 "nbformat": 4,
 "nbformat_minor": 2
}
