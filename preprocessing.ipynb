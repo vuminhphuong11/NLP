{
 "cells": [
  {
   "cell_type": "markdown",
   "metadata": {},
   "source": [
    "### #import thư viện cần thiết"
   ]
  },
  {
   "cell_type": "code",
   "execution_count": 31,
   "metadata": {},
   "outputs": [],
   "source": [
    "import re# thư viện để python làm việc với biểu thức chính quy\n",
    "import csv# thư viện để xử lí file .csv\n",
    "import numpy as np\n",
    "import pandas as pd\n",
    "import tensorflow as tf\n",
    "import pickle\n",
    "import matplotlib.pyplot as plt\n",
    "from sklearn.model_selection import train_test_split\n",
    "from tensorflow.keras.layers import Embedding, Dense, Dropout, Bidirectional, LSTM, GRU, Input, GlobalMaxPooling1D, LayerNormalization, Conv1D, MaxPooling1D, Concatenate, BatchNormalization\n",
    "from tensorflow.keras.callbacks import EarlyStopping\n",
    "from tensorflow.keras.optimizers import Adam, SGD\n",
    "from tensorflow.keras import Sequential\n",
    "from tensorflow.keras.models import load_model\n",
    "from tensorflow.keras.preprocessing.text import Tokenizer\n",
    "from tensorflow.keras.preprocessing.sequence import pad_sequences\n",
    "from pyvi import ViTokenizer# thư viện để tokenize\n",
    "from pyvi import ViUtils "
   ]
  },
  {
   "cell_type": "markdown",
   "metadata": {},
   "source": [
    "### # ghi dữ liệu sang một file mới\n",
    "### # loại bỏ stopword, kí tự, viết hoa\n",
    "### # kiểm tra xem có comment hoặc label nào bị trống không"
   ]
  },
  {
   "cell_type": "code",
   "execution_count": 32,
   "metadata": {},
   "outputs": [
    {
     "name": "stdout",
     "output_type": "stream",
     "text": [
      "Các dòng sau có dữ liệu trống ở cột 'Comment' hoặc 'Label': [2401, 2868]\n",
      "Dữ liệu đã được ghi vào data.csv\n"
     ]
    }
   ],
   "source": [
    "# đọc dữ liệu từ file gốc và sau đó loại bỏ stopwords và lưu lại vào file ra\n",
    "input_file_path = 'review_update.csv'  # File CSV cần xử lý\n",
    "output_file_path = 'data.csv'       # File CSV đầu ra\n",
    "# Hàm đọc danh sách stopwords từ file\n",
    "def load_stopwords(file_path):\n",
    "    with open(file_path, 'r', encoding='utf-8') as f:\n",
    "        stopwords = set(f.read().splitlines())  # Đọc từng dòng và lưu vào set\n",
    "    return stopwords\n",
    "# Lấy danh sách stopwords từ file\n",
    "stopwords = load_stopwords('vietnamese_stopwords.txt')\n",
    "# Hàm làm sạch văn bản\n",
    "def clean_text(text):\n",
    "    # Chuyển tất cả chữ về dạng viết thường\n",
    "    text = text.lower()\n",
    "    # Loại bỏ emoji, ký tự đặc biệt, chỉ giữ lại chữ cái và khoảng trắng\n",
    "    text = re.sub(r'[^\\w\\sáàạảãạăắằặẳẵâấầậẩẫéèẹẻẽêếềệểễíìịỉĩóòọỏõôốồộổỗơớờợởỡúùụủũưứừựửữýỳýỵỷỹđ]', '', text)\n",
    "    # Loại bỏ stopwords\n",
    "    text = ' '.join([word for word in text.split() if word not in stopwords])\n",
    "    return text\n",
    "# Đọc dữ liệu từ file CSV\n",
    "try:\n",
    "    with open(input_file_path, 'r', encoding='utf-8') as f:\n",
    "        reader = csv.DictReader(f)\n",
    "        data1 = list(reader)  # Đọc toàn bộ dữ liệu từ file CSV\n",
    "except FileNotFoundError:\n",
    "    print(f\"Không tìm thấy file: {input_file_path}\")\n",
    "    exit()\n",
    "except csv.Error:\n",
    "    print(f\"Lỗi khi đọc file CSV: {input_file_path}\")\n",
    "    exit()\n",
    "# Lọc và xử lý các mục comment, kiểm tra label và chỉ ghi lại những phần hợp lệ\n",
    "processed_data1 = []\n",
    "empty_rows = []  # Danh sách lưu dòng có dữ liệu trống\n",
    "for index, item in enumerate(data1):\n",
    "    comment = item.get('Comment', '').strip()\n",
    "    label = item.get('Label', '').strip()\n",
    "    # Kiểm tra dòng nào có dữ liệu bị trống\n",
    "    if not comment or not label:\n",
    "        empty_rows.append(index + 1)  # Lưu chỉ mục dòng (bắt đầu từ 1)\n",
    "        continue\n",
    "    # Xử lý comment\n",
    "    cleaned_comment = clean_text(comment)\n",
    "    processed_data1.append({'Comment': cleaned_comment, 'Label': label})\n",
    "# Báo các dòng có dữ liệu bị trống\n",
    "if empty_rows:\n",
    "    print(f\"Các dòng sau có dữ liệu trống ở cột 'Comment' hoặc 'Label': {empty_rows}\")\n",
    "# Ghi lại dữ liệu đã xử lý vào file CSV mới\n",
    "try:\n",
    "    with open(output_file_path, 'w', encoding='utf-8', newline='') as f:\n",
    "        writer = csv.DictWriter(f, fieldnames=['Comment', 'Label'])\n",
    "        writer.writeheader()  # Ghi tiêu đề cột\n",
    "        writer.writerows(processed_data1)  # Ghi dữ liệu\n",
    "    print(f\"Dữ liệu đã được ghi vào {output_file_path}\")\n",
    "except IOError:\n",
    "    print(f\"Không thể ghi dữ liệu vào file {output_file_path}\")"
   ]
  },
  {
   "cell_type": "code",
   "execution_count": 33,
   "metadata": {},
   "outputs": [
    {
     "name": "stdout",
     "output_type": "stream",
     "text": [
      "Số lượng comment có hơn 500 từ: 7\n",
      "Số lượng comment có 500 từ trở xuống: 3226\n",
      "\n",
      "Một số ví dụ trong nhóm có hơn 500 từ:\n",
      "                                                Comment     Label\n",
      "232   điên có đôi lời tựa của phần này có lẽ không h...  positive\n",
      "239   với mình nếu tách những cảnh tưởng tượng ra kh...  positive\n",
      "1336  giờ chưa từng phân tích phim hay bình luận suy...  negative\n",
      "1380  về điểm khen mình không kiến còn về phần chê b...  negative\n",
      "1386  có lẽ là câu chuyện quan điểm cá nhân mình ko ...  positive\n",
      "\n",
      "Một số ví dụ trong nhóm có dưới 500 từ:\n",
      "                                             Comment     Label\n",
      "0  p1 kiệt tác mọi thời đại rồi nên cũng đừng kì ...   neutral\n",
      "1  p2 gần là 1 phần bôi nhọ p1 ai lại có thể nghĩ...  negative\n",
      "2  năm nay kiểu gì toàn bom tấn thành bom xịt phi...  negative\n",
      "3  đúng là cảm xúc các đoạn cao trào vẫn làm chưa...   neutral\n",
      "4           phim khúc cuối nó dở 1 cái phim việt nam  negative\n"
     ]
    }
   ],
   "source": [
    "# phân loại từ cơ bản để xem có bao nhiêu từ hơn 500 từ\n",
    "def classify_comments_by_length(csv_file_path):\n",
    "    # Đọc dữ liệu từ file CSV\n",
    "    df = pd.read_csv(csv_file_path)  \n",
    "    # Kiểm tra xem cột 'comment' có tồn tại trong dữ liệu không\n",
    "    if 'Comment' not in df.columns:\n",
    "        raise ValueError(\"File CSV không chứa cột 'comment'\")  \n",
    "    # Hàm để đếm số lượng từ trong một comment\n",
    "    def count_words(text):\n",
    "        if isinstance(text, str):  # Kiểm tra xem text có phải là chuỗi không\n",
    "            return len(text.split())\n",
    "        return 0  \n",
    "    # Phân loại thành hai nhóm: nhóm có trên 500 từ và nhóm có dưới 500 từ\n",
    "    group_above_500 = df[df['Comment'].apply(count_words) > 500]\n",
    "    group_below_500 = df[df['Comment'].apply(count_words) <= 500]  \n",
    "    # In ra số lượng dòng trong mỗi nhóm\n",
    "    print(f\"Số lượng comment có hơn 500 từ: {len(group_above_500)}\")\n",
    "    print(f\"Số lượng comment có 500 từ trở xuống: {len(group_below_500)}\")   \n",
    "    return group_above_500, group_below_500\n",
    "# Đường dẫn tới file CSV của bạn\n",
    "csv_file_path = 'data.csv'\n",
    "# Gọi hàm để phân loại các comment\n",
    "group_above_500, group_below_500 = classify_comments_by_length(csv_file_path)\n",
    "# In ra ví dụ cho mỗi nhóm\n",
    "print(\"\\nMột số ví dụ trong nhóm có hơn 500 từ:\")\n",
    "print(group_above_500.head())\n",
    "print(\"\\nMột số ví dụ trong nhóm có dưới 500 từ:\")\n",
    "print(group_below_500.head())\n"
   ]
  },
  {
   "cell_type": "code",
   "execution_count": 34,
   "metadata": {},
   "outputs": [
    {
     "data": {
      "text/html": [
       "<div>\n",
       "<style scoped>\n",
       "    .dataframe tbody tr th:only-of-type {\n",
       "        vertical-align: middle;\n",
       "    }\n",
       "\n",
       "    .dataframe tbody tr th {\n",
       "        vertical-align: top;\n",
       "    }\n",
       "\n",
       "    .dataframe thead th {\n",
       "        text-align: right;\n",
       "    }\n",
       "</style>\n",
       "<table border=\"1\" class=\"dataframe\">\n",
       "  <thead>\n",
       "    <tr style=\"text-align: right;\">\n",
       "      <th></th>\n",
       "      <th>Comment</th>\n",
       "      <th>Label</th>\n",
       "    </tr>\n",
       "  </thead>\n",
       "  <tbody>\n",
       "    <tr>\n",
       "      <th>0</th>\n",
       "      <td>p1 kiệt tác mọi thời đại rồi nên cũng đừng kì ...</td>\n",
       "      <td>neutral</td>\n",
       "    </tr>\n",
       "    <tr>\n",
       "      <th>1</th>\n",
       "      <td>p2 gần là 1 phần bôi nhọ p1 ai lại có thể nghĩ...</td>\n",
       "      <td>negative</td>\n",
       "    </tr>\n",
       "    <tr>\n",
       "      <th>2</th>\n",
       "      <td>năm nay kiểu gì toàn bom tấn thành bom xịt phi...</td>\n",
       "      <td>negative</td>\n",
       "    </tr>\n",
       "    <tr>\n",
       "      <th>3</th>\n",
       "      <td>đúng là cảm xúc các đoạn cao trào vẫn làm chưa...</td>\n",
       "      <td>neutral</td>\n",
       "    </tr>\n",
       "    <tr>\n",
       "      <th>4</th>\n",
       "      <td>phim khúc cuối nó dở 1 cái phim việt nam</td>\n",
       "      <td>negative</td>\n",
       "    </tr>\n",
       "  </tbody>\n",
       "</table>\n",
       "</div>"
      ],
      "text/plain": [
       "                                             Comment     Label\n",
       "0  p1 kiệt tác mọi thời đại rồi nên cũng đừng kì ...   neutral\n",
       "1  p2 gần là 1 phần bôi nhọ p1 ai lại có thể nghĩ...  negative\n",
       "2  năm nay kiểu gì toàn bom tấn thành bom xịt phi...  negative\n",
       "3  đúng là cảm xúc các đoạn cao trào vẫn làm chưa...   neutral\n",
       "4           phim khúc cuối nó dở 1 cái phim việt nam  negative"
      ]
     },
     "execution_count": 34,
     "metadata": {},
     "output_type": "execute_result"
    }
   ],
   "source": [
    "data = pd.read_csv('data.csv')\n",
    "data.head()"
   ]
  },
  {
   "cell_type": "markdown",
   "metadata": {},
   "source": [
    "### #Lọc comment và label"
   ]
  },
  {
   "cell_type": "code",
   "execution_count": 35,
   "metadata": {},
   "outputs": [
    {
     "data": {
      "text/html": [
       "<div>\n",
       "<style scoped>\n",
       "    .dataframe tbody tr th:only-of-type {\n",
       "        vertical-align: middle;\n",
       "    }\n",
       "\n",
       "    .dataframe tbody tr th {\n",
       "        vertical-align: top;\n",
       "    }\n",
       "\n",
       "    .dataframe thead th {\n",
       "        text-align: right;\n",
       "    }\n",
       "</style>\n",
       "<table border=\"1\" class=\"dataframe\">\n",
       "  <thead>\n",
       "    <tr style=\"text-align: right;\">\n",
       "      <th></th>\n",
       "      <th>Comment</th>\n",
       "      <th>Label</th>\n",
       "    </tr>\n",
       "  </thead>\n",
       "  <tbody>\n",
       "    <tr>\n",
       "      <th>0</th>\n",
       "      <td>p1 kiệt tác mọi thời đại rồi nên cũng đừng kì ...</td>\n",
       "      <td>neutral</td>\n",
       "    </tr>\n",
       "    <tr>\n",
       "      <th>1</th>\n",
       "      <td>p2 gần là 1 phần bôi nhọ p1 ai lại có thể nghĩ...</td>\n",
       "      <td>negative</td>\n",
       "    </tr>\n",
       "    <tr>\n",
       "      <th>2</th>\n",
       "      <td>năm nay kiểu gì toàn bom tấn thành bom xịt phi...</td>\n",
       "      <td>negative</td>\n",
       "    </tr>\n",
       "    <tr>\n",
       "      <th>3</th>\n",
       "      <td>đúng là cảm xúc các đoạn cao trào vẫn làm chưa...</td>\n",
       "      <td>neutral</td>\n",
       "    </tr>\n",
       "    <tr>\n",
       "      <th>4</th>\n",
       "      <td>phim khúc cuối nó dở 1 cái phim việt nam</td>\n",
       "      <td>negative</td>\n",
       "    </tr>\n",
       "  </tbody>\n",
       "</table>\n",
       "</div>"
      ],
      "text/plain": [
       "                                             Comment     Label\n",
       "0  p1 kiệt tác mọi thời đại rồi nên cũng đừng kì ...   neutral\n",
       "1  p2 gần là 1 phần bôi nhọ p1 ai lại có thể nghĩ...  negative\n",
       "2  năm nay kiểu gì toàn bom tấn thành bom xịt phi...  negative\n",
       "3  đúng là cảm xúc các đoạn cao trào vẫn làm chưa...   neutral\n",
       "4           phim khúc cuối nó dở 1 cái phim việt nam  negative"
      ]
     },
     "execution_count": 35,
     "metadata": {},
     "output_type": "execute_result"
    }
   ],
   "source": [
    "st_data =pd.DataFrame({'Comment': data['Comment'],'Label': data['Label']})\n",
    "st_data = st_data.dropna()\n",
    "st_data = st_data.reset_index(drop=True)\n",
    "st_data.head()"
   ]
  },
  {
   "cell_type": "code",
   "execution_count": 36,
   "metadata": {},
   "outputs": [
    {
     "name": "stdout",
     "output_type": "stream",
     "text": [
      "Số lượng các nhãn trong cột 'Label' là:\n",
      "negative: 1144\n",
      "positive: 1129\n",
      "neutral: 960\n"
     ]
    }
   ],
   "source": [
    "#đếm số lượng các nhãn\n",
    "import pandas as pd\n",
    "def count_labels_in_csv(file_path, label_column):\n",
    "    try:\n",
    "        # Đọc file CSV\n",
    "        data = pd.read_csv(file_path)\n",
    "        # Kiểm tra cột label có tồn tại không\n",
    "        if label_column not in data.columns:\n",
    "            print(f\"Cột '{label_column}' không tồn tại trong file CSV.\")\n",
    "            return\n",
    "        # Đếm số lượng xuất hiện của mỗi nhãn\n",
    "        label_counts = data[label_column].value_counts()\n",
    "        # In kết quả\n",
    "        print(\"Số lượng các nhãn trong cột '{}' là:\".format(label_column))\n",
    "        for label, count in label_counts.items():\n",
    "            print(f\"{label}: {count}\")\n",
    "    except FileNotFoundError:\n",
    "        print(\"File không tồn tại. Vui lòng kiểm tra đường dẫn.\")\n",
    "    except Exception as e:\n",
    "        print(f\"Đã xảy ra lỗi: {e}\")\n",
    "# Ví dụ sử dụng\n",
    "file_path = \"data.csv\"  # Thay đường dẫn đến file CSV của bạn\n",
    "label_column = \"Label\"  # Thay tên cột Label của bạn\n",
    "count_labels_in_csv(file_path, label_column)\n"
   ]
  },
  {
   "cell_type": "markdown",
   "metadata": {},
   "source": [
    "### # Tạo một bản sao không có dấu, tokenization & lưu tạm"
   ]
  },
  {
   "cell_type": "code",
   "execution_count": 37,
   "metadata": {},
   "outputs": [],
   "source": [
    "input_comment = st_data['Comment'].values\n",
    "input_label = st_data['Label'].values\n",
    "label_dictionary ={'positive':2,'neutral':1,'negative':0}\n",
    "input_pre =[]\n",
    "label_accent =[]\n",
    "for idx, dt in enumerate(input_comment):\n",
    "    input_text_pre =list(tf.keras.preprocessing.text.text_to_word_sequence(dt))\n",
    "    input_text_pre = \" \".join(input_text_pre)\n",
    "    input_text_pre_no_accent = str(ViUtils.remove_accents(input_text_pre).decode(\"utf-8\"))# phần này là phần đã loại bỏ dấu\n",
    "    input_text_pre_accent =ViTokenizer.tokenize(input_text_pre)# tokenization cho văn bản có dấu\n",
    "    input_text_pre_no_accent = ViTokenizer.tokenize(input_text_pre_no_accent)# tokenization cho văn bản đã loại bỏ dấu\n",
    "    input_pre.append(input_text_pre_accent)\n",
    "    input_pre.append(input_text_pre_no_accent)\n",
    "    label_accent.append(input_label[idx])\n",
    "    label_accent.append(input_label[idx])"
   ]
  },
  {
   "cell_type": "code",
   "execution_count": 38,
   "metadata": {},
   "outputs": [
    {
     "data": {
      "image/png": "[encoded data removed]",
      "text/plain": [
       "<Figure size 640x480 with 1 Axes>"
      ]
     },
     "metadata": {},
     "output_type": "display_data"
    }
   ],
   "source": [
    "# lấy thông số và kiểm tra tần xuất\n",
    "seq_len =[len(i.split())for i in input_pre[0:7000]]\n",
    "pd.Series(seq_len).hist(bins =30)\n",
    "plt.show()\n"
   ]
  },
  {
   "cell_type": "code",
   "execution_count": 39,
   "metadata": {},
   "outputs": [
    {
     "name": "stdout",
     "output_type": "stream",
     "text": [
      "comment data.shape  (6460, 512)\n",
      "data_voca_size:  6699\n",
      "training sample:  5814\n",
      "validation sample:  1292\n",
      "test sample:  646\n"
     ]
    }
   ],
   "source": [
    "# chuyển đổi nhãn thành số và dạng one hot encoding\n",
    "label_idx =[label_dictionary[i]for i in label_accent]\n",
    "label_tf =tf.keras.utils.to_categorical(label_idx,num_classes=3)\n",
    "# Tạo một tokenizer cho việc tách từ trong văn bản\n",
    "tokenizer_data=Tokenizer(oov_token='<OOV>', split=' ')\n",
    "# huấn luyện\n",
    "tokenizer_data.fit_on_texts(input_pre)\n",
    "# chuyển văn bản thành các chuỗi số\n",
    "tokenizer_data_text=tokenizer_data.texts_to_sequences(input_pre)\n",
    "# Padding các chuỗi số, đảm bảo mỗi chuỗi có độ dài cố định (512 từ)\n",
    "vec_data = pad_sequences(tokenizer_data_text,padding='post',maxlen=512)\n",
    "# Lưu tokenizer đã huấn luyện vào file pickle để sử dụng sau này\n",
    "pickle.dump(tokenizer_data,open(\"tokenizer_data.pkl\", \"wb\"))\n",
    "print(\"comment data.shape \",vec_data.shape)\n",
    "data_voca_size =len(tokenizer_data.word_index)+1\n",
    "print(\"data_voca_size: \",data_voca_size)\n",
    "#chia tệp dữ liệu thành bộ train và bộ validation 8-2\n",
    "x_train, x_val,y_train,y_val= train_test_split(vec_data, label_tf,test_size=0.2,random_state=42)\n",
    "#chia tệp dữ liệu thành bộ train và bộ test 9-1\n",
    "x_train, x_test,y_train,y_test= train_test_split(vec_data, label_tf,test_size=0.1,random_state=42)\n",
    "print(\"training sample: \",len(x_train))\n",
    "print(\"validation sample: \",len(x_val))\n",
    "print(\"test sample: \",len(x_test))"
   ]
  },
  {
   "cell_type": "markdown",
   "metadata": {},
   "source": [
    "### # Build CNN +Bidirectional KSTM model for vietnamese language"
   ]
  },
  {
   "cell_type": "code",
   "execution_count": 40,
   "metadata": {},
   "outputs": [
    {
     "data": {
      "text/html": [
       "<pre style=\"white-space:pre;overflow-x:auto;line-height:normal;font-family:Menlo,'DejaVu Sans Mono',consolas,'Courier New',monospace\"><span style=\"font-weight: bold\">Model: \"functional_4\"</span>\n",
       "</pre>\n"
      ],
      "text/plain": [
       "\u001b[1mModel: \"functional_4\"\u001b[0m\n"
      ]
     },
     "metadata": {},
     "output_type": "display_data"
    },
    {
     "data": {
      "text/html": [
       "<pre style=\"white-space:pre;overflow-x:auto;line-height:normal;font-family:Menlo,'DejaVu Sans Mono',consolas,'Courier New',monospace\">┏━━━━━━━━━━━━━━━━━━━━━┳━━━━━━━━━━━━━━━━━━━┳━━━━━━━━━━━━┳━━━━━━━━━━━━━━━━━━━┓\n",
       "┃<span style=\"font-weight: bold\"> Layer (type)        </span>┃<span style=\"font-weight: bold\"> Output Shape      </span>┃<span style=\"font-weight: bold\">    Param # </span>┃<span style=\"font-weight: bold\"> Connected to      </span>┃\n",
       "┡━━━━━━━━━━━━━━━━━━━━━╇━━━━━━━━━━━━━━━━━━━╇━━━━━━━━━━━━╇━━━━━━━━━━━━━━━━━━━┩\n",
       "│ input_layer_4       │ (<span style=\"color: #00d7ff; text-decoration-color: #00d7ff\">None</span>, <span style=\"color: #00af00; text-decoration-color: #00af00\">512</span>)       │          <span style=\"color: #00af00; text-decoration-color: #00af00\">0</span> │ -                 │\n",
       "│ (<span style=\"color: #0087ff; text-decoration-color: #0087ff\">InputLayer</span>)        │                   │            │                   │\n",
       "├─────────────────────┼───────────────────┼────────────┼───────────────────┤\n",
       "│ embedding_4         │ (<span style=\"color: #00d7ff; text-decoration-color: #00d7ff\">None</span>, <span style=\"color: #00af00; text-decoration-color: #00af00\">512</span>, <span style=\"color: #00af00; text-decoration-color: #00af00\">32</span>)   │    <span style=\"color: #00af00; text-decoration-color: #00af00\">214,368</span> │ input_layer_4[<span style=\"color: #00af00; text-decoration-color: #00af00\">0</span>]… │\n",
       "│ (<span style=\"color: #0087ff; text-decoration-color: #0087ff\">Embedding</span>)         │                   │            │                   │\n",
       "├─────────────────────┼───────────────────┼────────────┼───────────────────┤\n",
       "│ conv1d_8 (<span style=\"color: #0087ff; text-decoration-color: #0087ff\">Conv1D</span>)   │ (<span style=\"color: #00d7ff; text-decoration-color: #00d7ff\">None</span>, <span style=\"color: #00af00; text-decoration-color: #00af00\">512</span>, <span style=\"color: #00af00; text-decoration-color: #00af00\">32</span>)   │      <span style=\"color: #00af00; text-decoration-color: #00af00\">3,104</span> │ embedding_4[<span style=\"color: #00af00; text-decoration-color: #00af00\">0</span>][<span style=\"color: #00af00; text-decoration-color: #00af00\">0</span>] │\n",
       "├─────────────────────┼───────────────────┼────────────┼───────────────────┤\n",
       "│ max_pooling1d_16    │ (<span style=\"color: #00d7ff; text-decoration-color: #00d7ff\">None</span>, <span style=\"color: #00af00; text-decoration-color: #00af00\">256</span>, <span style=\"color: #00af00; text-decoration-color: #00af00\">32</span>)   │          <span style=\"color: #00af00; text-decoration-color: #00af00\">0</span> │ conv1d_8[<span style=\"color: #00af00; text-decoration-color: #00af00\">0</span>][<span style=\"color: #00af00; text-decoration-color: #00af00\">0</span>]    │\n",
       "│ (<span style=\"color: #0087ff; text-decoration-color: #0087ff\">MaxPooling1D</span>)      │                   │            │                   │\n",
       "├─────────────────────┼───────────────────┼────────────┼───────────────────┤\n",
       "│ dropout_16          │ (<span style=\"color: #00d7ff; text-decoration-color: #00d7ff\">None</span>, <span style=\"color: #00af00; text-decoration-color: #00af00\">256</span>, <span style=\"color: #00af00; text-decoration-color: #00af00\">32</span>)   │          <span style=\"color: #00af00; text-decoration-color: #00af00\">0</span> │ max_pooling1d_16… │\n",
       "│ (<span style=\"color: #0087ff; text-decoration-color: #0087ff\">Dropout</span>)           │                   │            │                   │\n",
       "├─────────────────────┼───────────────────┼────────────┼───────────────────┤\n",
       "│ bidirectional_8     │ (<span style=\"color: #00d7ff; text-decoration-color: #00d7ff\">None</span>, <span style=\"color: #00af00; text-decoration-color: #00af00\">512</span>, <span style=\"color: #00af00; text-decoration-color: #00af00\">64</span>)   │     <span style=\"color: #00af00; text-decoration-color: #00af00\">16,640</span> │ embedding_4[<span style=\"color: #00af00; text-decoration-color: #00af00\">0</span>][<span style=\"color: #00af00; text-decoration-color: #00af00\">0</span>] │\n",
       "│ (<span style=\"color: #0087ff; text-decoration-color: #0087ff\">Bidirectional</span>)     │                   │            │                   │\n",
       "├─────────────────────┼───────────────────┼────────────┼───────────────────┤\n",
       "│ conv1d_9 (<span style=\"color: #0087ff; text-decoration-color: #0087ff\">Conv1D</span>)   │ (<span style=\"color: #00d7ff; text-decoration-color: #00d7ff\">None</span>, <span style=\"color: #00af00; text-decoration-color: #00af00\">256</span>, <span style=\"color: #00af00; text-decoration-color: #00af00\">32</span>)   │      <span style=\"color: #00af00; text-decoration-color: #00af00\">3,104</span> │ dropout_16[<span style=\"color: #00af00; text-decoration-color: #00af00\">0</span>][<span style=\"color: #00af00; text-decoration-color: #00af00\">0</span>]  │\n",
       "├─────────────────────┼───────────────────┼────────────┼───────────────────┤\n",
       "│ max_pooling1d_18    │ (<span style=\"color: #00d7ff; text-decoration-color: #00d7ff\">None</span>, <span style=\"color: #00af00; text-decoration-color: #00af00\">256</span>, <span style=\"color: #00af00; text-decoration-color: #00af00\">64</span>)   │          <span style=\"color: #00af00; text-decoration-color: #00af00\">0</span> │ bidirectional_8[<span style=\"color: #00af00; text-decoration-color: #00af00\">…</span> │\n",
       "│ (<span style=\"color: #0087ff; text-decoration-color: #0087ff\">MaxPooling1D</span>)      │                   │            │                   │\n",
       "├─────────────────────┼───────────────────┼────────────┼───────────────────┤\n",
       "│ max_pooling1d_17    │ (<span style=\"color: #00d7ff; text-decoration-color: #00d7ff\">None</span>, <span style=\"color: #00af00; text-decoration-color: #00af00\">128</span>, <span style=\"color: #00af00; text-decoration-color: #00af00\">32</span>)   │          <span style=\"color: #00af00; text-decoration-color: #00af00\">0</span> │ conv1d_9[<span style=\"color: #00af00; text-decoration-color: #00af00\">0</span>][<span style=\"color: #00af00; text-decoration-color: #00af00\">0</span>]    │\n",
       "│ (<span style=\"color: #0087ff; text-decoration-color: #0087ff\">MaxPooling1D</span>)      │                   │            │                   │\n",
       "├─────────────────────┼───────────────────┼────────────┼───────────────────┤\n",
       "│ bidirectional_9     │ (<span style=\"color: #00d7ff; text-decoration-color: #00d7ff\">None</span>, <span style=\"color: #00af00; text-decoration-color: #00af00\">256</span>, <span style=\"color: #00af00; text-decoration-color: #00af00\">64</span>)   │     <span style=\"color: #00af00; text-decoration-color: #00af00\">18,816</span> │ max_pooling1d_18… │\n",
       "│ (<span style=\"color: #0087ff; text-decoration-color: #0087ff\">Bidirectional</span>)     │                   │            │                   │\n",
       "├─────────────────────┼───────────────────┼────────────┼───────────────────┤\n",
       "│ layer_normalizatio… │ (<span style=\"color: #00d7ff; text-decoration-color: #00d7ff\">None</span>, <span style=\"color: #00af00; text-decoration-color: #00af00\">128</span>, <span style=\"color: #00af00; text-decoration-color: #00af00\">32</span>)   │         <span style=\"color: #00af00; text-decoration-color: #00af00\">64</span> │ max_pooling1d_17… │\n",
       "│ (<span style=\"color: #0087ff; text-decoration-color: #0087ff\">LayerNormalizatio…</span> │                   │            │                   │\n",
       "├─────────────────────┼───────────────────┼────────────┼───────────────────┤\n",
       "│ max_pooling1d_19    │ (<span style=\"color: #00d7ff; text-decoration-color: #00d7ff\">None</span>, <span style=\"color: #00af00; text-decoration-color: #00af00\">128</span>, <span style=\"color: #00af00; text-decoration-color: #00af00\">64</span>)   │          <span style=\"color: #00af00; text-decoration-color: #00af00\">0</span> │ bidirectional_9[<span style=\"color: #00af00; text-decoration-color: #00af00\">…</span> │\n",
       "│ (<span style=\"color: #0087ff; text-decoration-color: #0087ff\">MaxPooling1D</span>)      │                   │            │                   │\n",
       "├─────────────────────┼───────────────────┼────────────┼───────────────────┤\n",
       "│ dropout_17          │ (<span style=\"color: #00d7ff; text-decoration-color: #00d7ff\">None</span>, <span style=\"color: #00af00; text-decoration-color: #00af00\">128</span>, <span style=\"color: #00af00; text-decoration-color: #00af00\">32</span>)   │          <span style=\"color: #00af00; text-decoration-color: #00af00\">0</span> │ layer_normalizat… │\n",
       "│ (<span style=\"color: #0087ff; text-decoration-color: #0087ff\">Dropout</span>)           │                   │            │                   │\n",
       "├─────────────────────┼───────────────────┼────────────┼───────────────────┤\n",
       "│ layer_normalizatio… │ (<span style=\"color: #00d7ff; text-decoration-color: #00d7ff\">None</span>, <span style=\"color: #00af00; text-decoration-color: #00af00\">128</span>, <span style=\"color: #00af00; text-decoration-color: #00af00\">64</span>)   │        <span style=\"color: #00af00; text-decoration-color: #00af00\">128</span> │ max_pooling1d_19… │\n",
       "│ (<span style=\"color: #0087ff; text-decoration-color: #0087ff\">LayerNormalizatio…</span> │                   │            │                   │\n",
       "├─────────────────────┼───────────────────┼────────────┼───────────────────┤\n",
       "│ concatenate_4       │ (<span style=\"color: #00d7ff; text-decoration-color: #00d7ff\">None</span>, <span style=\"color: #00af00; text-decoration-color: #00af00\">128</span>, <span style=\"color: #00af00; text-decoration-color: #00af00\">96</span>)   │          <span style=\"color: #00af00; text-decoration-color: #00af00\">0</span> │ dropout_17[<span style=\"color: #00af00; text-decoration-color: #00af00\">0</span>][<span style=\"color: #00af00; text-decoration-color: #00af00\">0</span>], │\n",
       "│ (<span style=\"color: #0087ff; text-decoration-color: #0087ff\">Concatenate</span>)       │                   │            │ layer_normalizat… │\n",
       "├─────────────────────┼───────────────────┼────────────┼───────────────────┤\n",
       "│ global_max_pooling… │ (<span style=\"color: #00d7ff; text-decoration-color: #00d7ff\">None</span>, <span style=\"color: #00af00; text-decoration-color: #00af00\">96</span>)        │          <span style=\"color: #00af00; text-decoration-color: #00af00\">0</span> │ concatenate_4[<span style=\"color: #00af00; text-decoration-color: #00af00\">0</span>]… │\n",
       "│ (<span style=\"color: #0087ff; text-decoration-color: #0087ff\">GlobalMaxPooling1…</span> │                   │            │                   │\n",
       "├─────────────────────┼───────────────────┼────────────┼───────────────────┤\n",
       "│ layer_normalizatio… │ (<span style=\"color: #00d7ff; text-decoration-color: #00d7ff\">None</span>, <span style=\"color: #00af00; text-decoration-color: #00af00\">96</span>)        │        <span style=\"color: #00af00; text-decoration-color: #00af00\">192</span> │ global_max_pooli… │\n",
       "│ (<span style=\"color: #0087ff; text-decoration-color: #0087ff\">LayerNormalizatio…</span> │                   │            │                   │\n",
       "├─────────────────────┼───────────────────┼────────────┼───────────────────┤\n",
       "│ dense_12 (<span style=\"color: #0087ff; text-decoration-color: #0087ff\">Dense</span>)    │ (<span style=\"color: #00d7ff; text-decoration-color: #00d7ff\">None</span>, <span style=\"color: #00af00; text-decoration-color: #00af00\">90</span>)        │      <span style=\"color: #00af00; text-decoration-color: #00af00\">8,730</span> │ layer_normalizat… │\n",
       "├─────────────────────┼───────────────────┼────────────┼───────────────────┤\n",
       "│ dropout_18          │ (<span style=\"color: #00d7ff; text-decoration-color: #00d7ff\">None</span>, <span style=\"color: #00af00; text-decoration-color: #00af00\">90</span>)        │          <span style=\"color: #00af00; text-decoration-color: #00af00\">0</span> │ dense_12[<span style=\"color: #00af00; text-decoration-color: #00af00\">0</span>][<span style=\"color: #00af00; text-decoration-color: #00af00\">0</span>]    │\n",
       "│ (<span style=\"color: #0087ff; text-decoration-color: #0087ff\">Dropout</span>)           │                   │            │                   │\n",
       "├─────────────────────┼───────────────────┼────────────┼───────────────────┤\n",
       "│ dense_13 (<span style=\"color: #0087ff; text-decoration-color: #0087ff\">Dense</span>)    │ (<span style=\"color: #00d7ff; text-decoration-color: #00d7ff\">None</span>, <span style=\"color: #00af00; text-decoration-color: #00af00\">30</span>)        │      <span style=\"color: #00af00; text-decoration-color: #00af00\">2,730</span> │ dropout_18[<span style=\"color: #00af00; text-decoration-color: #00af00\">0</span>][<span style=\"color: #00af00; text-decoration-color: #00af00\">0</span>]  │\n",
       "├─────────────────────┼───────────────────┼────────────┼───────────────────┤\n",
       "│ dropout_19          │ (<span style=\"color: #00d7ff; text-decoration-color: #00d7ff\">None</span>, <span style=\"color: #00af00; text-decoration-color: #00af00\">30</span>)        │          <span style=\"color: #00af00; text-decoration-color: #00af00\">0</span> │ dense_13[<span style=\"color: #00af00; text-decoration-color: #00af00\">0</span>][<span style=\"color: #00af00; text-decoration-color: #00af00\">0</span>]    │\n",
       "│ (<span style=\"color: #0087ff; text-decoration-color: #0087ff\">Dropout</span>)           │                   │            │                   │\n",
       "├─────────────────────┼───────────────────┼────────────┼───────────────────┤\n",
       "│ dense_14 (<span style=\"color: #0087ff; text-decoration-color: #0087ff\">Dense</span>)    │ (<span style=\"color: #00d7ff; text-decoration-color: #00d7ff\">None</span>, <span style=\"color: #00af00; text-decoration-color: #00af00\">3</span>)         │         <span style=\"color: #00af00; text-decoration-color: #00af00\">93</span> │ dropout_19[<span style=\"color: #00af00; text-decoration-color: #00af00\">0</span>][<span style=\"color: #00af00; text-decoration-color: #00af00\">0</span>]  │\n",
       "└─────────────────────┴───────────────────┴────────────┴───────────────────┘\n",
       "</pre>\n"
      ],
      "text/plain": [
       "┏━━━━━━━━━━━━━━━━━━━━━┳━━━━━━━━━━━━━━━━━━━┳━━━━━━━━━━━━┳━━━━━━━━━━━━━━━━━━━┓\n",
       "┃\u001b[1m \u001b[0m\u001b[1mLayer (type)       \u001b[0m\u001b[1m \u001b[0m┃\u001b[1m \u001b[0m\u001b[1mOutput Shape     \u001b[0m\u001b[1m \u001b[0m┃\u001b[1m \u001b[0m\u001b[1m   Param #\u001b[0m\u001b[1m \u001b[0m┃\u001b[1m \u001b[0m\u001b[1mConnected to     \u001b[0m\u001b[1m \u001b[0m┃\n",
       "┡━━━━━━━━━━━━━━━━━━━━━╇━━━━━━━━━━━━━━━━━━━╇━━━━━━━━━━━━╇━━━━━━━━━━━━━━━━━━━┩\n",
       "│ input_layer_4       │ (\u001b[38;5;45mNone\u001b[0m, \u001b[38;5;34m512\u001b[0m)       │          \u001b[38;5;34m0\u001b[0m │ -                 │\n",
       "│ (\u001b[38;5;33mInputLayer\u001b[0m)        │                   │            │                   │\n",
       "├─────────────────────┼───────────────────┼────────────┼───────────────────┤\n",
       "│ embedding_4         │ (\u001b[38;5;45mNone\u001b[0m, \u001b[38;5;34m512\u001b[0m, \u001b[38;5;34m32\u001b[0m)   │    \u001b[38;5;34m214,368\u001b[0m │ input_layer_4[\u001b[38;5;34m0\u001b[0m]… │\n",
       "│ (\u001b[38;5;33mEmbedding\u001b[0m)         │                   │            │                   │\n",
       "├─────────────────────┼───────────────────┼────────────┼───────────────────┤\n",
       "│ conv1d_8 (\u001b[38;5;33mConv1D\u001b[0m)   │ (\u001b[38;5;45mNone\u001b[0m, \u001b[38;5;34m512\u001b[0m, \u001b[38;5;34m32\u001b[0m)   │      \u001b[38;5;34m3,104\u001b[0m │ embedding_4[\u001b[38;5;34m0\u001b[0m][\u001b[38;5;34m0\u001b[0m] │\n",
       "├─────────────────────┼───────────────────┼────────────┼───────────────────┤\n",
       "│ max_pooling1d_16    │ (\u001b[38;5;45mNone\u001b[0m, \u001b[38;5;34m256\u001b[0m, \u001b[38;5;34m32\u001b[0m)   │          \u001b[38;5;34m0\u001b[0m │ conv1d_8[\u001b[38;5;34m0\u001b[0m][\u001b[38;5;34m0\u001b[0m]    │\n",
       "│ (\u001b[38;5;33mMaxPooling1D\u001b[0m)      │                   │            │                   │\n",
       "├─────────────────────┼───────────────────┼────────────┼───────────────────┤\n",
       "│ dropout_16          │ (\u001b[38;5;45mNone\u001b[0m, \u001b[38;5;34m256\u001b[0m, \u001b[38;5;34m32\u001b[0m)   │          \u001b[38;5;34m0\u001b[0m │ max_pooling1d_16… │\n",
       "│ (\u001b[38;5;33mDropout\u001b[0m)           │                   │            │                   │\n",
       "├─────────────────────┼───────────────────┼────────────┼───────────────────┤\n",
       "│ bidirectional_8     │ (\u001b[38;5;45mNone\u001b[0m, \u001b[38;5;34m512\u001b[0m, \u001b[38;5;34m64\u001b[0m)   │     \u001b[38;5;34m16,640\u001b[0m │ embedding_4[\u001b[38;5;34m0\u001b[0m][\u001b[38;5;34m0\u001b[0m] │\n",
       "│ (\u001b[38;5;33mBidirectional\u001b[0m)     │                   │            │                   │\n",
       "├─────────────────────┼───────────────────┼────────────┼───────────────────┤\n",
       "│ conv1d_9 (\u001b[38;5;33mConv1D\u001b[0m)   │ (\u001b[38;5;45mNone\u001b[0m, \u001b[38;5;34m256\u001b[0m, \u001b[38;5;34m32\u001b[0m)   │      \u001b[38;5;34m3,104\u001b[0m │ dropout_16[\u001b[38;5;34m0\u001b[0m][\u001b[38;5;34m0\u001b[0m]  │\n",
       "├─────────────────────┼───────────────────┼────────────┼───────────────────┤\n",
       "│ max_pooling1d_18    │ (\u001b[38;5;45mNone\u001b[0m, \u001b[38;5;34m256\u001b[0m, \u001b[38;5;34m64\u001b[0m)   │          \u001b[38;5;34m0\u001b[0m │ bidirectional_8[\u001b[38;5;34m…\u001b[0m │\n",
       "│ (\u001b[38;5;33mMaxPooling1D\u001b[0m)      │                   │            │                   │\n",
       "├─────────────────────┼───────────────────┼────────────┼───────────────────┤\n",
       "│ max_pooling1d_17    │ (\u001b[38;5;45mNone\u001b[0m, \u001b[38;5;34m128\u001b[0m, \u001b[38;5;34m32\u001b[0m)   │          \u001b[38;5;34m0\u001b[0m │ conv1d_9[\u001b[38;5;34m0\u001b[0m][\u001b[38;5;34m0\u001b[0m]    │\n",
       "│ (\u001b[38;5;33mMaxPooling1D\u001b[0m)      │                   │            │                   │\n",
       "├─────────────────────┼───────────────────┼────────────┼───────────────────┤\n",
       "│ bidirectional_9     │ (\u001b[38;5;45mNone\u001b[0m, \u001b[38;5;34m256\u001b[0m, \u001b[38;5;34m64\u001b[0m)   │     \u001b[38;5;34m18,816\u001b[0m │ max_pooling1d_18… │\n",
       "│ (\u001b[38;5;33mBidirectional\u001b[0m)     │                   │            │                   │\n",
       "├─────────────────────┼───────────────────┼────────────┼───────────────────┤\n",
       "│ layer_normalizatio… │ (\u001b[38;5;45mNone\u001b[0m, \u001b[38;5;34m128\u001b[0m, \u001b[38;5;34m32\u001b[0m)   │         \u001b[38;5;34m64\u001b[0m │ max_pooling1d_17… │\n",
       "│ (\u001b[38;5;33mLayerNormalizatio…\u001b[0m │                   │            │                   │\n",
       "├─────────────────────┼───────────────────┼────────────┼───────────────────┤\n",
       "│ max_pooling1d_19    │ (\u001b[38;5;45mNone\u001b[0m, \u001b[38;5;34m128\u001b[0m, \u001b[38;5;34m64\u001b[0m)   │          \u001b[38;5;34m0\u001b[0m │ bidirectional_9[\u001b[38;5;34m…\u001b[0m │\n",
       "│ (\u001b[38;5;33mMaxPooling1D\u001b[0m)      │                   │            │                   │\n",
       "├─────────────────────┼───────────────────┼────────────┼───────────────────┤\n",
       "│ dropout_17          │ (\u001b[38;5;45mNone\u001b[0m, \u001b[38;5;34m128\u001b[0m, \u001b[38;5;34m32\u001b[0m)   │          \u001b[38;5;34m0\u001b[0m │ layer_normalizat… │\n",
       "│ (\u001b[38;5;33mDropout\u001b[0m)           │                   │            │                   │\n",
       "├─────────────────────┼───────────────────┼────────────┼───────────────────┤\n",
       "│ layer_normalizatio… │ (\u001b[38;5;45mNone\u001b[0m, \u001b[38;5;34m128\u001b[0m, \u001b[38;5;34m64\u001b[0m)   │        \u001b[38;5;34m128\u001b[0m │ max_pooling1d_19… │\n",
       "│ (\u001b[38;5;33mLayerNormalizatio…\u001b[0m │                   │            │                   │\n",
       "├─────────────────────┼───────────────────┼────────────┼───────────────────┤\n",
       "│ concatenate_4       │ (\u001b[38;5;45mNone\u001b[0m, \u001b[38;5;34m128\u001b[0m, \u001b[38;5;34m96\u001b[0m)   │          \u001b[38;5;34m0\u001b[0m │ dropout_17[\u001b[38;5;34m0\u001b[0m][\u001b[38;5;34m0\u001b[0m], │\n",
       "│ (\u001b[38;5;33mConcatenate\u001b[0m)       │                   │            │ layer_normalizat… │\n",
       "├─────────────────────┼───────────────────┼────────────┼───────────────────┤\n",
       "│ global_max_pooling… │ (\u001b[38;5;45mNone\u001b[0m, \u001b[38;5;34m96\u001b[0m)        │          \u001b[38;5;34m0\u001b[0m │ concatenate_4[\u001b[38;5;34m0\u001b[0m]… │\n",
       "│ (\u001b[38;5;33mGlobalMaxPooling1…\u001b[0m │                   │            │                   │\n",
       "├─────────────────────┼───────────────────┼────────────┼───────────────────┤\n",
       "│ layer_normalizatio… │ (\u001b[38;5;45mNone\u001b[0m, \u001b[38;5;34m96\u001b[0m)        │        \u001b[38;5;34m192\u001b[0m │ global_max_pooli… │\n",
       "│ (\u001b[38;5;33mLayerNormalizatio…\u001b[0m │                   │            │                   │\n",
       "├─────────────────────┼───────────────────┼────────────┼───────────────────┤\n",
       "│ dense_12 (\u001b[38;5;33mDense\u001b[0m)    │ (\u001b[38;5;45mNone\u001b[0m, \u001b[38;5;34m90\u001b[0m)        │      \u001b[38;5;34m8,730\u001b[0m │ layer_normalizat… │\n",
       "├─────────────────────┼───────────────────┼────────────┼───────────────────┤\n",
       "│ dropout_18          │ (\u001b[38;5;45mNone\u001b[0m, \u001b[38;5;34m90\u001b[0m)        │          \u001b[38;5;34m0\u001b[0m │ dense_12[\u001b[38;5;34m0\u001b[0m][\u001b[38;5;34m0\u001b[0m]    │\n",
       "│ (\u001b[38;5;33mDropout\u001b[0m)           │                   │            │                   │\n",
       "├─────────────────────┼───────────────────┼────────────┼───────────────────┤\n",
       "│ dense_13 (\u001b[38;5;33mDense\u001b[0m)    │ (\u001b[38;5;45mNone\u001b[0m, \u001b[38;5;34m30\u001b[0m)        │      \u001b[38;5;34m2,730\u001b[0m │ dropout_18[\u001b[38;5;34m0\u001b[0m][\u001b[38;5;34m0\u001b[0m]  │\n",
       "├─────────────────────┼───────────────────┼────────────┼───────────────────┤\n",
       "│ dropout_19          │ (\u001b[38;5;45mNone\u001b[0m, \u001b[38;5;34m30\u001b[0m)        │          \u001b[38;5;34m0\u001b[0m │ dense_13[\u001b[38;5;34m0\u001b[0m][\u001b[38;5;34m0\u001b[0m]    │\n",
       "│ (\u001b[38;5;33mDropout\u001b[0m)           │                   │            │                   │\n",
       "├─────────────────────┼───────────────────┼────────────┼───────────────────┤\n",
       "│ dense_14 (\u001b[38;5;33mDense\u001b[0m)    │ (\u001b[38;5;45mNone\u001b[0m, \u001b[38;5;34m3\u001b[0m)         │         \u001b[38;5;34m93\u001b[0m │ dropout_19[\u001b[38;5;34m0\u001b[0m][\u001b[38;5;34m0\u001b[0m]  │\n",
       "└─────────────────────┴───────────────────┴────────────┴───────────────────┘\n"
      ]
     },
     "metadata": {},
     "output_type": "display_data"
    },
    {
     "data": {
      "text/html": [
       "<pre style=\"white-space:pre;overflow-x:auto;line-height:normal;font-family:Menlo,'DejaVu Sans Mono',consolas,'Courier New',monospace\"><span style=\"font-weight: bold\"> Total params: </span><span style=\"color: #00af00; text-decoration-color: #00af00\">267,969</span> (1.02 MB)\n",
       "</pre>\n"
      ],
      "text/plain": [
       "\u001b[1m Total params: \u001b[0m\u001b[38;5;34m267,969\u001b[0m (1.02 MB)\n"
      ]
     },
     "metadata": {},
     "output_type": "display_data"
    },
    {
     "data": {
      "text/html": [
       "<pre style=\"white-space:pre;overflow-x:auto;line-height:normal;font-family:Menlo,'DejaVu Sans Mono',consolas,'Courier New',monospace\"><span style=\"font-weight: bold\"> Trainable params: </span><span style=\"color: #00af00; text-decoration-color: #00af00\">267,969</span> (1.02 MB)\n",
       "</pre>\n"
      ],
      "text/plain": [
       "\u001b[1m Trainable params: \u001b[0m\u001b[38;5;34m267,969\u001b[0m (1.02 MB)\n"
      ]
     },
     "metadata": {},
     "output_type": "display_data"
    },
    {
     "data": {
      "text/html": [
       "<pre style=\"white-space:pre;overflow-x:auto;line-height:normal;font-family:Menlo,'DejaVu Sans Mono',consolas,'Courier New',monospace\"><span style=\"font-weight: bold\"> Non-trainable params: </span><span style=\"color: #00af00; text-decoration-color: #00af00\">0</span> (0.00 B)\n",
       "</pre>\n"
      ],
      "text/plain": [
       "\u001b[1m Non-trainable params: \u001b[0m\u001b[38;5;34m0\u001b[0m (0.00 B)\n"
      ]
     },
     "metadata": {},
     "output_type": "display_data"
    }
   ],
   "source": [
    "def generate_model():# hàm chạy chính cho model kstm và cnn\n",
    "    dropout_threshold =0.3\n",
    "    input_dim =data_voca_size\n",
    "    ouput_dim =32\n",
    "    input_length = 512\n",
    "    initializer= tf.keras.initializers.GlorotNormal()\n",
    "    input_layer = Input(shape=(input_length,))\n",
    "    feature =Embedding(input_dim=input_dim, output_dim=ouput_dim, embeddings_initializer=\"GlorotNormal\")(input_layer)\n",
    "    cnn_feature =Conv1D(filters=32, kernel_size=3, padding='same',activation='relu')(feature)\n",
    "    cnn_feature =MaxPooling1D()(cnn_feature)\n",
    "    cnn_feature =Dropout(dropout_threshold)(cnn_feature)\n",
    "    cnn_feature = Conv1D(filters=32, kernel_size=3, padding='same',activation='relu')(cnn_feature)\n",
    "    cnn_feature =MaxPooling1D()(cnn_feature)\n",
    "    cnn_feature =LayerNormalization()(cnn_feature)\n",
    "    cnn_feature = Dropout(dropout_threshold)(cnn_feature)\n",
    "    #bidirectional kstm\n",
    "    bi_sktm_feature = Bidirectional(LSTM(units=32, dropout=dropout_threshold,return_sequences=True,kernel_initializer=initializer),merge_mode='concat')(feature)\n",
    "    bi_sktm_feature = MaxPooling1D()(bi_sktm_feature)\n",
    "    bi_sktm_feature = Bidirectional(GRU(units=32, dropout=dropout_threshold,return_sequences=True,kernel_initializer=initializer),merge_mode='concat')(bi_sktm_feature)\n",
    "    bi_sktm_feature = MaxPooling1D()(bi_sktm_feature)\n",
    "    bi_sktm_feature = LayerNormalization()(bi_sktm_feature)\n",
    "    \n",
    "    combine_feature =tf.keras.layers.Concatenate()([cnn_feature,bi_sktm_feature])\n",
    "    combine_feature =GlobalMaxPooling1D()(combine_feature)\n",
    "    combine_feature =LayerNormalization()(combine_feature)\n",
    "    \n",
    "    Classifier =Dense(90, activation='relu')(combine_feature)\n",
    "    Classifier =Dropout(0.2)(Classifier)\n",
    "\n",
    "    Classifier = Dense(30, activation='relu', kernel_regularizer=tf.keras.regularizers.l2(0.01))(Classifier)\n",
    "    Classifier =Dropout(0.2)(Classifier)\n",
    "    Classifier =Dense(3, activation='softmax')(Classifier)\n",
    "    model= tf.keras.Model(inputs = input_layer, outputs =Classifier)\n",
    "    return model\n",
    "model =generate_model()\n",
    "lr_schedule = tf.keras.optimizers.schedules.ExponentialDecay(\n",
    "    initial_learning_rate=0.0009,\n",
    "    decay_steps=500,\n",
    "    decay_rate=0.6\n",
    ")\n",
    "optimizer = Adam(learning_rate=lr_schedule)\n",
    "model.compile(optimizer = Adam(learning_rate=lr_schedule),loss='categorical_crossentropy',metrics=['accuracy'])\n",
    "model.summary()\n"
   ]
  },
  {
   "cell_type": "markdown",
   "metadata": {},
   "source": [
    "### # Define model checkPoint & training"
   ]
  },
  {
   "cell_type": "code",
   "execution_count": 41,
   "metadata": {},
   "outputs": [
    {
     "name": "stdout",
     "output_type": "stream",
     "text": [
      "Epoch 1/20\n",
      "\u001b[1m91/91\u001b[0m \u001b[32m━━━━━━━━━━━━━━━━━━━━\u001b[0m\u001b[37m\u001b[0m \u001b[1m38s\u001b[0m 345ms/step - accuracy: 0.3489 - loss: 1.5528 - val_accuracy: 0.3715 - val_loss: 1.3479\n",
      "Epoch 2/20\n",
      "\u001b[1m91/91\u001b[0m \u001b[32m━━━━━━━━━━━━━━━━━━━━\u001b[0m\u001b[37m\u001b[0m \u001b[1m32s\u001b[0m 351ms/step - accuracy: 0.3734 - loss: 1.3139 - val_accuracy: 0.3398 - val_loss: 1.2354\n",
      "Epoch 3/20\n",
      "\u001b[1m91/91\u001b[0m \u001b[32m━━━━━━━━━━━━━━━━━━━━\u001b[0m\u001b[37m\u001b[0m \u001b[1m33s\u001b[0m 361ms/step - accuracy: 0.3800 - loss: 1.2151 - val_accuracy: 0.4760 - val_loss: 1.1534\n",
      "Epoch 4/20\n",
      "\u001b[1m91/91\u001b[0m \u001b[32m━━━━━━━━━━━━━━━━━━━━\u001b[0m\u001b[37m\u001b[0m \u001b[1m33s\u001b[0m 362ms/step - accuracy: 0.4398 - loss: 1.1322 - val_accuracy: 0.5944 - val_loss: 0.9623\n",
      "Epoch 5/20\n",
      "\u001b[1m91/91\u001b[0m \u001b[32m━━━━━━━━━━━━━━━━━━━━\u001b[0m\u001b[37m\u001b[0m \u001b[1m36s\u001b[0m 395ms/step - accuracy: 0.6012 - loss: 0.9396 - val_accuracy: 0.6625 - val_loss: 0.8511\n",
      "Epoch 6/20\n",
      "\u001b[1m91/91\u001b[0m \u001b[32m━━━━━━━━━━━━━━━━━━━━\u001b[0m\u001b[37m\u001b[0m \u001b[1m40s\u001b[0m 437ms/step - accuracy: 0.6957 - loss: 0.7803 - val_accuracy: 0.7345 - val_loss: 0.7229\n",
      "Epoch 7/20\n",
      "\u001b[1m91/91\u001b[0m \u001b[32m━━━━━━━━━━━━━━━━━━━━\u001b[0m\u001b[37m\u001b[0m \u001b[1m42s\u001b[0m 462ms/step - accuracy: 0.7772 - loss: 0.6150 - val_accuracy: 0.7585 - val_loss: 0.6497\n",
      "Epoch 8/20\n",
      "\u001b[1m91/91\u001b[0m \u001b[32m━━━━━━━━━━━━━━━━━━━━\u001b[0m\u001b[37m\u001b[0m \u001b[1m42s\u001b[0m 467ms/step - accuracy: 0.8323 - loss: 0.5120 - val_accuracy: 0.7608 - val_loss: 0.6423\n",
      "Epoch 9/20\n",
      "\u001b[1m91/91\u001b[0m \u001b[32m━━━━━━━━━━━━━━━━━━━━\u001b[0m\u001b[37m\u001b[0m \u001b[1m39s\u001b[0m 427ms/step - accuracy: 0.8533 - loss: 0.4404 - val_accuracy: 0.7663 - val_loss: 0.6711\n",
      "Epoch 10/20\n",
      "\u001b[1m91/91\u001b[0m \u001b[32m━━━━━━━━━━━━━━━━━━━━\u001b[0m\u001b[37m\u001b[0m \u001b[1m36s\u001b[0m 399ms/step - accuracy: 0.8723 - loss: 0.3867 - val_accuracy: 0.7957 - val_loss: 0.6395\n",
      "Epoch 11/20\n",
      "\u001b[1m91/91\u001b[0m \u001b[32m━━━━━━━━━━━━━━━━━━━━\u001b[0m\u001b[37m\u001b[0m \u001b[1m41s\u001b[0m 451ms/step - accuracy: 0.8857 - loss: 0.3487 - val_accuracy: 0.8088 - val_loss: 0.6339\n",
      "Epoch 12/20\n",
      "\u001b[1m91/91\u001b[0m \u001b[32m━━━━━━━━━━━━━━━━━━━━\u001b[0m\u001b[37m\u001b[0m \u001b[1m42s\u001b[0m 464ms/step - accuracy: 0.9033 - loss: 0.2965 - val_accuracy: 0.8127 - val_loss: 0.6492\n",
      "Epoch 13/20\n",
      "\u001b[1m91/91\u001b[0m \u001b[32m━━━━━━━━━━━━━━━━━━━━\u001b[0m\u001b[37m\u001b[0m \u001b[1m42s\u001b[0m 462ms/step - accuracy: 0.9160 - loss: 0.2739 - val_accuracy: 0.8127 - val_loss: 0.6174\n",
      "Epoch 14/20\n",
      "\u001b[1m91/91\u001b[0m \u001b[32m━━━━━━━━━━━━━━━━━━━━\u001b[0m\u001b[37m\u001b[0m \u001b[1m41s\u001b[0m 451ms/step - accuracy: 0.9267 - loss: 0.2387 - val_accuracy: 0.8181 - val_loss: 0.6624\n",
      "Epoch 15/20\n",
      "\u001b[1m91/91\u001b[0m \u001b[32m━━━━━━━━━━━━━━━━━━━━\u001b[0m\u001b[37m\u001b[0m \u001b[1m37s\u001b[0m 401ms/step - accuracy: 0.9298 - loss: 0.2257 - val_accuracy: 0.8243 - val_loss: 0.6699\n",
      "Epoch 16/20\n",
      "\u001b[1m91/91\u001b[0m \u001b[32m━━━━━━━━━━━━━━━━━━━━\u001b[0m\u001b[37m\u001b[0m \u001b[1m38s\u001b[0m 416ms/step - accuracy: 0.9412 - loss: 0.1911 - val_accuracy: 0.8127 - val_loss: 0.6967\n",
      "Epoch 17/20\n",
      "\u001b[1m91/91\u001b[0m \u001b[32m━━━━━━━━━━━━━━━━━━━━\u001b[0m\u001b[37m\u001b[0m \u001b[1m42s\u001b[0m 466ms/step - accuracy: 0.9435 - loss: 0.1854 - val_accuracy: 0.8158 - val_loss: 0.6989\n",
      "Epoch 18/20\n",
      "\u001b[1m91/91\u001b[0m \u001b[32m━━━━━━━━━━━━━━━━━━━━\u001b[0m\u001b[37m\u001b[0m \u001b[1m42s\u001b[0m 461ms/step - accuracy: 0.9369 - loss: 0.1948 - val_accuracy: 0.8104 - val_loss: 0.7657\n",
      "Epoch 18: early stopping\n",
      "Restoring model weights from the end of the best epoch: 13.\n"
     ]
    }
   ],
   "source": [
    "# Early Stopping Callback\n",
    "early_stopping = EarlyStopping(\n",
    "    monitor='val_loss',  # Theo dõi giá trị val_loss\n",
    "    patience=5,          # Số epoch không cải thiện trước khi dừng\n",
    "    restore_best_weights=True,  # Khôi phục trọng số tốt nhất\n",
    "    verbose=1\n",
    ")\n",
    "callback_model =tf.keras.callbacks.ModelCheckpoint('model_1.keras',monitor='val_loss')\n",
    "history =model.fit(x=x_train,y=y_train,validation_data=(x_val,y_val),epochs=20, batch_size=64,callbacks=[callback_model,early_stopping])"
   ]
  },
  {
   "cell_type": "markdown",
   "metadata": {},
   "source": [
    "### #model load on test data"
   ]
  },
  {
   "cell_type": "code",
   "execution_count": 46,
   "metadata": {},
   "outputs": [
    {
     "name": "stdout",
     "output_type": "stream",
     "text": [
      "\u001b[1m21/21\u001b[0m \u001b[32m━━━━━━━━━━━━━━━━━━━━\u001b[0m\u001b[37m\u001b[0m \u001b[1m1s\u001b[0m 69ms/step - accuracy: 0.6138 - loss: 1.5342\n"
     ]
    },
    {
     "data": {
      "text/plain": [
       "[1.4552323818206787, 0.6439628601074219]"
      ]
     },
     "execution_count": 46,
     "metadata": {},
     "output_type": "execute_result"
    }
   ],
   "source": [
    "model.load_weights(\"model_1.keras\")\n",
    "model.evaluate(x_test,y_test)"
   ]
  },
  {
   "cell_type": "code",
   "execution_count": 43,
   "metadata": {},
   "outputs": [
    {
     "data": {
      "image/png": "[encoded data removed]",
      "text/plain": [
       "<Figure size 1200x600 with 1 Axes>"
      ]
     },
     "metadata": {},
     "output_type": "display_data"
    },
    {
     "data": {
      "image/png": "[encoded data removed]",
      "text/plain": [
       "<Figure size 1200x600 with 1 Axes>"
      ]
     },
     "metadata": {},
     "output_type": "display_data"
    }
   ],
   "source": [
    "import matplotlib.pyplot as plt\n",
    "\n",
    "# Vẽ đồ thị loss\n",
    "def plot_loss(history):\n",
    "    plt.figure(figsize=(12, 6))\n",
    "    plt.plot(history.history['loss'], label='Loss (train)', color='blue')\n",
    "    plt.plot(history.history['val_loss'], label='Loss (validation)', color='red')\n",
    "    plt.title('Training and Validation Loss')\n",
    "    plt.xlabel('Epochs')\n",
    "    plt.ylabel('Loss')\n",
    "    plt.legend()\n",
    "    plt.grid(True)\n",
    "    plt.show()\n",
    "\n",
    "# Vẽ đồ thị accuracy\n",
    "def plot_accuracy(history):\n",
    "    plt.figure(figsize=(12, 6))\n",
    "    plt.plot(history.history['accuracy'], label='Accuracy (train)', color='blue')\n",
    "    plt.plot(history.history['val_accuracy'], label='Accuracy (validation)', color='red')\n",
    "    plt.title('Training and Validation Accuracy')\n",
    "    plt.xlabel('Epochs')\n",
    "    plt.ylabel('Accuracy')\n",
    "    plt.legend()\n",
    "    plt.grid(True)\n",
    "    plt.show()\n",
    "\n",
    "# Sau khi huấn luyện mô hình, vẽ các đồ thị\n",
    "plot_loss(history)\n",
    "plot_accuracy(history)"
   ]
  },
  {
   "cell_type": "code",
   "execution_count": 44,
   "metadata": {},
   "outputs": [
    {
     "name": "stdout",
     "output_type": "stream",
     "text": [
      "text preprocessed:  bộ phim cảm_giác như một nỗ_lực thiếu sáng_tạo với cốt_truyện khá nhàm_chán và thiếu sự sâu_sắc các tình_tiết không có gì mới_mẻ và dễ_dàng đoán trước khiến người xem khó có_thể cảm_thấy bất_ngờ hay hứng_thú diễn_xuất của dàn nhân_vật không đủ thuyết_phục và họ dường_như chỉ làm_tròn vai mà không mang lại cảm_xúc mạnh_mẽ hình_ảnh và âm_thanh mặc_dù không tệ nhưng lại không đủ để nâng cao trải nghiệm cho bộ phim khiến nó trở_nên bình_thường và dễ quên bộ phim không đạt được mục_tiêu của mình là thu_hút và giữ_chân khán_giả và có cảm_giác như một sản_phẩm thiếu đầu_tư và sự tâm_huyết\n",
      "('negative', 0.5238725543022156)\n"
     ]
    }
   ],
   "source": [
    "def preprocess_input(raw_input, tokenizer):\n",
    "    input_text_pre =list(tf.keras.preprocessing.text.text_to_word_sequence(raw_input))\n",
    "    input_text_pre =\" \".join(input_text_pre)\n",
    "    input_text_pre_accent= ViTokenizer.tokenize(input_text_pre)\n",
    "    print(\"text preprocessed: \",input_text_pre_accent)\n",
    "    tokenizer_data_text=tokenizer.texts_to_sequences([input_text_pre_accent])\n",
    "    vec_data = pad_sequences(tokenizer_data_text,padding='post',maxlen =512)\n",
    "    return vec_data\n",
    "def inference_model(input_feature,model):\n",
    "    output=model(input_feature).numpy()[0]\n",
    "    result =output.argmax()\n",
    "    conf =float(output.max())\n",
    "    label_dictionary={'negative':0,'neutral':1,'positive':2}\n",
    "    label =list(label_dictionary.keys())\n",
    "    return label[int(result)],conf\n",
    "def prediction(raw_input, tokenizer,model):\n",
    "    input_model=preprocess_input(raw_input,tokenizer_data)\n",
    "    result,conf=inference_model(input_model,model)\n",
    "    return result, conf\n",
    "m_model= generate_model()\n",
    "m_model=load_model('model_1.keras')\n",
    "with open(r\"tokenizer_data.pkl\",\"rb\")as input_file:\n",
    "    my_tokenizer=pickle.load(input_file)\n",
    "print(prediction(\"Bộ phim cảm giác như một nỗ lực thiếu sáng tạo với cốt truyện khá nhàm chán và thiếu sự sâu sắc. Các tình tiết không có gì mới mẻ và dễ dàng đoán trước, khiến người xem khó có thể cảm thấy bất ngờ hay hứng thú. Diễn xuất của dàn nhân vật không đủ thuyết phục, và họ dường như chỉ làm tròn vai mà không mang lại cảm xúc mạnh mẽ. Hình ảnh và âm thanh, mặc dù không tệ, nhưng lại không đủ để nâng cao trải nghiệm cho bộ phim, khiến nó trở nên bình thường và dễ quên. Bộ phim không đạt được mục tiêu của mình là thu hút và giữ chân khán giả, và có cảm giác như một sản phẩm thiếu đầu tư và sự tâm huyết\",my_tokenizer,m_model))"
   ]
  },
  {
   "cell_type": "code",
   "execution_count": 45,
   "metadata": {},
   "outputs": [],
   "source": [
    "#while(True):\n",
    " #   text=input()\n",
    "   # if text ==\"end\":\n",
    "   #     break\n",
    "   # else:\n",
    "    #    print(prediction(text,my_tokenizer,m_model)[0]+\"\\n\")"
   ]
  }
 ],
 "metadata": {
  "kernelspec": {
   "display_name": "Python 3",
   "language": "python",
   "name": "python3"
  },
  "language_info": {
   "codemirror_mode": {
    "name": "ipython",
    "version": 3
   },
   "file_extension": ".py",
   "mimetype": "text/x-python",
   "name": "python",
   "nbconvert_exporter": "python",
   "pygments_lexer": "ipython3",
   "version": "3.11.0"
  }
 },
 "nbformat": 4,
 "nbformat_minor": 2
}
