{
 "cells": [
  {
   "cell_type": "markdown",
   "metadata": {},
   "source": [
    "### #import thư viện cần thiết"
   ]
  },
  {
   "cell_type": "code",
   "execution_count": 124,
   "metadata": {},
   "outputs": [],
   "source": [
    "import re# thư viện để python làm việc với biểu thức chính quy\n",
    "import csv# thư viện để xử lí file .csv\n",
    "import numpy as np\n",
    "import pandas as pd\n",
    "import tensorflow as tf\n",
    "import pickle\n",
    "import matplotlib.pyplot as plt\n",
    "from sklearn.model_selection import train_test_split\n",
    "from tensorflow.keras.layers import Embedding, Dense, Dropout, Bidirectional, LSTM, GRU, Input, GlobalMaxPooling1D, LayerNormalization, Conv1D, MaxPooling1D, Concatenate\n",
    "from tensorflow.keras.optimizers import Adam, SGD\n",
    "from tensorflow.keras import Sequential\n",
    "from tensorflow.keras.models import load_model\n",
    "from tensorflow.keras.preprocessing.text import Tokenizer\n",
    "from tensorflow.keras.preprocessing.sequence import pad_sequences\n",
    "from pyvi import ViTokenizer# thư viện để tokenize\n",
    "from pyvi import ViUtils "
   ]
  },
  {
   "cell_type": "markdown",
   "metadata": {},
   "source": [
    "### # ghi dữ liệu sang một file mới\n",
    "### # loại bỏ stopword, kí tự, viết hoa\n",
    "### # kiểm tra xem có comment hoặc label nào bị trống không"
   ]
  },
  {
   "cell_type": "code",
   "execution_count": null,
   "metadata": {},
   "outputs": [],
   "source": [
    "# đọc dữ liệu từ file gốc và sau đó loại bỏ stopwords và lưu lại vào file ra\n",
    "input_file_path = 'review_update.csv'  # File CSV cần xử lý\n",
    "output_file_path = 'data.csv'       # File CSV đầu ra\n",
    "# Hàm đọc danh sách stopwords từ file\n",
    "def load_stopwords(file_path):\n",
    "    with open(file_path, 'r', encoding='utf-8') as f:\n",
    "        stopwords = set(f.read().splitlines())  # Đọc từng dòng và lưu vào set\n",
    "    return stopwords\n",
    "# Lấy danh sách stopwords từ file\n",
    "stopwords = load_stopwords('vietnamese_stopwords.txt')\n",
    "# Hàm làm sạch văn bản\n",
    "def clean_text(text):\n",
    "    # Chuyển tất cả chữ về dạng viết thường\n",
    "    text = text.lower()\n",
    "    # Loại bỏ emoji, ký tự đặc biệt, chỉ giữ lại chữ cái và khoảng trắng\n",
    "    text = re.sub(r'[^\\w\\sáàạảãạăắằặẳẵâấầậẩẫéèẹẻẽêếềệểễíìịỉĩóòọỏõôốồộổỗơớờợởỡúùụủũưứừựửữýỳýỵỷỹđ]', '', text)\n",
    "    # Loại bỏ stopwords\n",
    "    text = ' '.join([word for word in text.split() if word not in stopwords])\n",
    "    return text\n",
    "# Đọc dữ liệu từ file CSV\n",
    "try:\n",
    "    with open(input_file_path, 'r', encoding='utf-8') as f:\n",
    "        reader = csv.DictReader(f)\n",
    "        data1 = list(reader)  # Đọc toàn bộ dữ liệu từ file CSV\n",
    "except FileNotFoundError:\n",
    "    print(f\"Không tìm thấy file: {input_file_path}\")\n",
    "    exit()\n",
    "except csv.Error:\n",
    "    print(f\"Lỗi khi đọc file CSV: {input_file_path}\")\n",
    "    exit()\n",
    "# Lọc và xử lý các mục comment, kiểm tra label và chỉ ghi lại những phần hợp lệ\n",
    "processed_data1 = []\n",
    "empty_rows = []  # Danh sách lưu dòng có dữ liệu trống\n",
    "for index, item in enumerate(data1):\n",
    "    comment = item.get('Comment', '').strip()\n",
    "    label = item.get('Label', '').strip()\n",
    "    # Kiểm tra dòng nào có dữ liệu bị trống\n",
    "    if not comment or not label:\n",
    "        empty_rows.append(index + 1)  # Lưu chỉ mục dòng (bắt đầu từ 1)\n",
    "        continue\n",
    "    # Xử lý comment\n",
    "    cleaned_comment = clean_text(comment)\n",
    "    processed_data1.append({'Comment': cleaned_comment, 'Label': label})\n",
    "# Báo các dòng có dữ liệu bị trống\n",
    "if empty_rows:\n",
    "    print(f\"Các dòng sau có dữ liệu trống ở cột 'Comment' hoặc 'Label': {empty_rows}\")\n",
    "# Ghi lại dữ liệu đã xử lý vào file CSV mới\n",
    "try:\n",
    "    with open(output_file_path, 'w', encoding='utf-8', newline='') as f:\n",
    "        writer = csv.DictWriter(f, fieldnames=['Comment', 'Label'])\n",
    "        writer.writeheader()  # Ghi tiêu đề cột\n",
    "        writer.writerows(processed_data1)  # Ghi dữ liệu\n",
    "    print(f\"Dữ liệu đã được ghi vào {output_file_path}\")\n",
    "except IOError:\n",
    "    print(f\"Không thể ghi dữ liệu vào file {output_file_path}\")"
   ]
  },
  {
   "cell_type": "code",
   "execution_count": null,
   "metadata": {},
   "outputs": [],
   "source": [
    "data = pd.read_csv('data.csv')\n",
    "data.head()"
   ]
  },
  {
   "cell_type": "markdown",
   "metadata": {},
   "source": [
    "### #Lọc comment và label"
   ]
  },
  {
   "cell_type": "code",
   "execution_count": null,
   "metadata": {},
   "outputs": [],
   "source": [
    "st_data =pd.DataFrame({'Comment': data['Comment'],'Label': data['Label']})\n",
    "st_data = st_data.dropna()\n",
    "st_data = st_data.reset_index(drop=True)\n",
    "st_data.head()"
   ]
  },
  {
   "cell_type": "code",
   "execution_count": null,
   "metadata": {},
   "outputs": [],
   "source": [
    "import pandas as pd\n",
    "def count_labels_in_csv(file_path, label_column):\n",
    "    try:\n",
    "        # Đọc file CSV\n",
    "        data = pd.read_csv(file_path)\n",
    "        # Kiểm tra cột label có tồn tại không\n",
    "        if label_column not in data.columns:\n",
    "            print(f\"Cột '{label_column}' không tồn tại trong file CSV.\")\n",
    "            return\n",
    "        # Đếm số lượng xuất hiện của mỗi nhãn\n",
    "        label_counts = data[label_column].value_counts()\n",
    "        # In kết quả\n",
    "        print(\"Số lượng các nhãn trong cột '{}' là:\".format(label_column))\n",
    "        for label, count in label_counts.items():\n",
    "            print(f\"{label}: {count}\")\n",
    "    except FileNotFoundError:\n",
    "        print(\"File không tồn tại. Vui lòng kiểm tra đường dẫn.\")\n",
    "    except Exception as e:\n",
    "        print(f\"Đã xảy ra lỗi: {e}\")\n",
    "# Ví dụ sử dụng\n",
    "file_path = \"data.csv\"  # Thay đường dẫn đến file CSV của bạn\n",
    "label_column = \"Label\"  # Thay tên cột Label của bạn\n",
    "count_labels_in_csv(file_path, label_column)\n"
   ]
  },
  {
   "cell_type": "markdown",
   "metadata": {},
   "source": [
    "### # Tạo một bản sao không có dấu, tokenization & lưu tạm"
   ]
  },
  {
   "cell_type": "code",
   "execution_count": 129,
   "metadata": {},
   "outputs": [],
   "source": [
    "input_comment = st_data['Comment'].values\n",
    "input_label = st_data['Label'].values\n",
    "label_dictionary ={'positive':2,'neutral':1,'negative':0}\n",
    "input_pre =[]\n",
    "label_accent =[]\n",
    "for idx, dt in enumerate(input_comment):\n",
    "    input_text_pre =list(tf.keras.preprocessing.text.text_to_word_sequence(dt))\n",
    "    input_text_pre = \" \".join(input_text_pre)\n",
    "    input_text_pre_no_accent = str(ViUtils.remove_accents(input_text_pre).decode(\"utf-8\"))# phần này là phần đã loại bỏ dấu\n",
    "    input_text_pre_accent =ViTokenizer.tokenize(input_text_pre)# tokenization cho văn bản có dấu\n",
    "    input_text_pre_no_accent = ViTokenizer.tokenize(input_text_pre_no_accent)# tokenization cho văn bản đã loại bỏ dấu\n",
    "    input_pre.append(input_text_pre_accent)\n",
    "    input_pre.append(input_text_pre_no_accent)\n",
    "    label_accent.append(input_label[idx])\n",
    "    label_accent.append(input_label[idx])"
   ]
  },
  {
   "cell_type": "code",
   "execution_count": 130,
   "metadata": {},
   "outputs": [
    {
     "data": {
      "image/png": "[encoded data removed]",
      "text/plain": [
       "<Figure size 640x480 with 1 Axes>"
      ]
     },
     "metadata": {},
     "output_type": "display_data"
    },
    {
     "data": {
      "image/png": "[encoded data removed]",
      "text/plain": [
       "<Figure size 640x480 with 1 Axes>"
      ]
     },
     "metadata": {},
     "output_type": "display_data"
    },
    {
     "data": {
      "image/png": "[encoded data removed]",
      "text/plain": [
       "<Figure size 640x480 with 1 Axes>"
      ]
     },
     "metadata": {},
     "output_type": "display_data"
    }
   ],
   "source": [
    "# lấy thông số và kiểm tra tần xuất\n",
    "seq_len =[len(i.split())for i in input_pre[0:1000]]\n",
    "pd.Series(seq_len).hist(bins =10)\n",
    "plt.show()\n",
    "seq_len =[len(i.split())for i in input_pre[1000:2000]]\n",
    "pd.Series(seq_len).hist(bins =10)\n",
    "plt.show()\n",
    "seq_len =[len(i.split())for i in input_pre[2000:3000]]\n",
    "pd.Series(seq_len).hist(bins =10)\n",
    "plt.show()\n",
    "seq_len =[len(i.split())for i in input_pre[3000:4000]]\n",
    "pd.Series(seq_len).hist(bins =10)\n",
    "plt.show()\n",
    "seq_len =[len(i.split())for i in input_pre[4000:5000]]\n",
    "pd.Series(seq_len).hist(bins =10)\n",
    "plt.show()"
   ]
  },
  {
   "cell_type": "code",
   "execution_count": 131,
   "metadata": {},
   "outputs": [
    {
     "name": "stdout",
     "output_type": "stream",
     "text": [
      "Bình luận có số từ nhiều nhất là ở dòng 1386 với 865 từ.\n",
      "Đoạn bình luận: có lẽ là câu chuyện quan điểm cá nhân mình ko đồng tình lắm với cách phân tích của bạn việt dương có kha khá khán giả thấy phim hay về câu chuyện đó có mìnhmình thấy phim có 1 câu chuyện rõ ràng có những cứ twist khiến khán giả thấy thú vị cách kể đủ sự lôi cuốn nhân vật linh dù giới thiệu qua đầu phim ta vẫn đủ hiểu linh là 1 mẫu thục nữ điển hình thời phong kiến xưa nhà nghèo có 1 cuộc tình đẹp từ bé mình ko nghĩ đó là sơ sài nó vừa đủ cho người xem hiểu bắt đầu cùng mạch truyện tìm hiểu khám phá nhân vật này thực sự càng xem mình càng thấy victor vũ khắc hoạ khai thác rất hay làm người xem ko bị shock thông lúc đầu từ từ tìm hiểu linh 1 cô gái hiền lành cam chịu khéo tay thương con có 1 tình yêu mãnh liệt nhân vật nhân cái này mình phải công nhận là hơi ít sự giới thiệu cũng câu chuyện 7 năm của nhân hơi qua loa với thời lượng của phim việc cân đối cho nhân bằng đó không gian là vừa đủ của đạo diễn 1 chàng hơi nóng tính hơi ngờ ngệch yêu với tất cả những gì mình có kiên định nó cả khi bị tra tấn đến gần chết chuyện tình của linh nhân trc khi câu ch chính diễn ra nó rõ ràng là 1 câu chuyện thực sự không được đạo diễn chú trọng vì nếu để 1 thời lượng lớn cho 1 đoạn flashback sẽ không đủ thời lượng cho 1 đoạn sau phá án giật gân hay đến mình nghĩ 1 đôi thanh mai trúc mã yêu nhau từ bé nghèo luôn nghĩ cho nhau gia đình của nhau là đủ để xây dựng câu chuyện phim nó hoàn toàn hợp lí nếu mọi người để hơn đoạn cuối linh tiết lộ 2 người họ đã qhtd trc khi linh bị quan huyện bắt về mình nghĩ nó cũng là 1 phần thể hiện được tình yêu của họ trc khi câu chuyện chính xảy ra hành trình của linh nhân xét về góc độ logic bn việt dương thấy trời đất hỡi cũng phần đúng lật lại vấn đề xã hội phong kiến xưa việc những cô gái tuổi 1215 lấy chồng là rất nhiều linh nhân dù mạch chuyện gốc đã có con mình nghĩ vẫn còn rất trẻ ta có thể giải thích cho những hành động của họ bằng 1 tình yêu bất châpd cũng các hành động có phần xốc nổi của tuổi trẻ hơn là họ luôn thế rất khó làn ranh của đạo đức bất chấp đến bất cần việc ra quyết định sai không có gì khó hiểu cả nhân vật quan huyện có lẽ bạn đã đặt quá nhiều kì vọng khi ra rạp xem thể hiện 1 nhân vật thi thoảng phải có sự hài hước vừa phải toát lên sự gia trưởng của nam nhân xưa vừa phải hách dịch độc ác của tên quan huyện tham ômà p vừa hơi đần đần ba phải mình nghĩ nghệ sĩ quang thắng đã diễn khá tròn vai diễn của mình chứ đáng quên nhất nhân vật bà hai lý do cho những hành động tử tế này không được giải thích rõ ràng lại 1 câu mình phải suy nghĩ sao mình lại thấy nó rõ ràng thế với hình ảnh 3 ngừoi vợ đạo diễn victor vũ đã khắc hoạ được 3 hình tượng người phụ nữ điển hình luôn có mọi thời đại bà cả hay dẻo miệng nịnh hót lại dã tâm độc ác ích kỉ bà ba hiền thục nết na cam chịu cuối cùng bà 2 người mình đang phân tích này là người phụ nữ thẳng tính hơi đồng bóng bên lại vẫn là 1 người tốt tính nhân hậu vc giúp đỡ linh thể hiện rõ ràng rằng đó ko phải là sự thương cảm bth giữa người với ngừoi là sự đồng cảm giữa những người phụ nữ thân phận của họ xã hội xưa kết luận toàn các là góc nhìn kiến riêng của mình mình thấy cho người xem 1 câu chuyện kết hợp giữa drama trinh thám đủ hấp dẫn phim còn truyề tải tốt những vấn đề nhức nhối xã hội xưa trọng nam khinh nữ nạn tham quan đặc biệt với bèo dạt mây trôi câu hát nghẹn ngào sao chẳng thấy em cùng khung cảnh nhân ngồi ôm con khóc 1 mình thực sự đắt với mình mình thấy đây là phim tuyệt vời với 1 phim made in vietnam mình không đòi hỏi gì hơn không cần quá rõ bố cục tưng phần quá đào sâu nhân vật hay giải thích tường tận đoạn đầu tiêu chuẩn phim quốc tế nó là khẩu vị việt làm rất nhiều khán giả việt nam hài lòng dự theo cmt mình đọc được qua chính vd này còn chắc với góc nhìn của chuyên gia về phim mình ko biết\n"
     ]
    }
   ],
   "source": [
    "file_path = 'data.csv' \n",
    "df = pd.read_csv(file_path)\n",
    "# Kiểm tra xem cột 'Comment' có tồn tại trong file không\n",
    "if 'Comment' in df.columns:\n",
    "    # Đếm số từ trong mỗi bình luận\n",
    "    df['word_count'] = df['Comment'].apply(lambda x: len(str(x).split()))  \n",
    "    # Tìm bình luận có số từ nhiều nhất\n",
    "    max_word_count_row = df.loc[df['word_count'].idxmax()]\n",
    "    print(f\"Bình luận có số từ nhiều nhất là ở dòng {max_word_count_row.name} với {max_word_count_row['word_count']} từ.\")\n",
    "    print(f\"Đoạn bình luận: {max_word_count_row['Comment']}\")\n",
    "else:\n",
    "    print(\"Không tìm thấy cột 'Comment' trong file CSV.\")\n"
   ]
  },
  {
   "cell_type": "code",
   "execution_count": 132,
   "metadata": {},
   "outputs": [
    {
     "name": "stdout",
     "output_type": "stream",
     "text": [
      "comment data.shape  (6460, 512)\n",
      "data_voca_size:  6699\n",
      "training sample:  5814\n",
      "validation sample:  1292\n",
      "test sample:  646\n"
     ]
    }
   ],
   "source": [
    "# chuyển đổi nhãn thành số và dạng one hot encoding\n",
    "label_idx =[label_dictionary[i]for i in label_accent]\n",
    "label_tf =tf.keras.utils.to_categorical(label_idx,num_classes=3)\n",
    "# Tạo một tokenizer cho việc tách từ trong văn bản\n",
    "tokenizer_data=Tokenizer(oov_token='<OOV>', split=' ')\n",
    "# huấn luyện\n",
    "tokenizer_data.fit_on_texts(input_pre)\n",
    "# chuyển văn bản thành các chuỗi số\n",
    "tokenizer_data_text=tokenizer_data.texts_to_sequences(input_pre)\n",
    "# Padding các chuỗi số, đảm bảo mỗi chuỗi có độ dài cố định (512 từ)\n",
    "vec_data = pad_sequences(tokenizer_data_text,padding='post',maxlen=512)\n",
    "# Lưu tokenizer đã huấn luyện vào file pickle để sử dụng sau này\n",
    "pickle.dump(tokenizer_data,open(\"tokenizer_data.pkl\", \"wb\"))\n",
    "print(\"comment data.shape \",vec_data.shape)\n",
    "data_voca_size =len(tokenizer_data.word_index)+1\n",
    "print(\"data_voca_size: \",data_voca_size)\n",
    "#chia tệp dữ liệu thành bộ train và bộ validation 8-2\n",
    "x_train, x_val,y_train,y_val= train_test_split(vec_data, label_tf,test_size=0.2,random_state=42)\n",
    "#chia tệp dữ liệu thành bộ train và bộ test 9-1\n",
    "x_train, x_test,y_train,y_test= train_test_split(vec_data, label_tf,test_size=0.1,random_state=42)\n",
    "print(\"training sample: \",len(x_train))\n",
    "print(\"validation sample: \",len(x_val))\n",
    "print(\"test sample: \",len(x_test))"
   ]
  },
  {
   "cell_type": "markdown",
   "metadata": {},
   "source": [
    "### # Build CNN +Bidirectional KSTM model for vietnamese language"
   ]
  },
  {
   "cell_type": "code",
   "execution_count": 133,
   "metadata": {},
   "outputs": [
    {
     "name": "stderr",
     "output_type": "stream",
     "text": [
      "c:\\Users\\Admin\\AppData\\Local\\Programs\\Python\\Python311\\Lib\\site-packages\\keras\\src\\layers\\core\\embedding.py:90: UserWarning: Argument `input_length` is deprecated. Just remove it.\n",
      "  warnings.warn(\n"
     ]
    },
    {
     "data": {
      "text/html": [
       "<pre style=\"white-space:pre;overflow-x:auto;line-height:normal;font-family:Menlo,'DejaVu Sans Mono',consolas,'Courier New',monospace\"><span style=\"font-weight: bold\">Model: \"functional_13\"</span>\n",
       "</pre>\n"
      ],
      "text/plain": [
       "\u001b[1mModel: \"functional_13\"\u001b[0m\n"
      ]
     },
     "metadata": {},
     "output_type": "display_data"
    },
    {
     "data": {
      "text/html": [
       "<pre style=\"white-space:pre;overflow-x:auto;line-height:normal;font-family:Menlo,'DejaVu Sans Mono',consolas,'Courier New',monospace\">┏━━━━━━━━━━━━━━━━━━━━━┳━━━━━━━━━━━━━━━━━━━┳━━━━━━━━━━━━┳━━━━━━━━━━━━━━━━━━━┓\n",
       "┃<span style=\"font-weight: bold\"> Layer (type)        </span>┃<span style=\"font-weight: bold\"> Output Shape      </span>┃<span style=\"font-weight: bold\">    Param # </span>┃<span style=\"font-weight: bold\"> Connected to      </span>┃\n",
       "┡━━━━━━━━━━━━━━━━━━━━━╇━━━━━━━━━━━━━━━━━━━╇━━━━━━━━━━━━╇━━━━━━━━━━━━━━━━━━━┩\n",
       "│ input_layer_14      │ (<span style=\"color: #00d7ff; text-decoration-color: #00d7ff\">None</span>, <span style=\"color: #00af00; text-decoration-color: #00af00\">512</span>)       │          <span style=\"color: #00af00; text-decoration-color: #00af00\">0</span> │ -                 │\n",
       "│ (<span style=\"color: #0087ff; text-decoration-color: #0087ff\">InputLayer</span>)        │                   │            │                   │\n",
       "├─────────────────────┼───────────────────┼────────────┼───────────────────┤\n",
       "│ embedding_14        │ (<span style=\"color: #00d7ff; text-decoration-color: #00d7ff\">None</span>, <span style=\"color: #00af00; text-decoration-color: #00af00\">512</span>, <span style=\"color: #00af00; text-decoration-color: #00af00\">32</span>)   │    <span style=\"color: #00af00; text-decoration-color: #00af00\">214,368</span> │ input_layer_14[<span style=\"color: #00af00; text-decoration-color: #00af00\">0</span>… │\n",
       "│ (<span style=\"color: #0087ff; text-decoration-color: #0087ff\">Embedding</span>)         │                   │            │                   │\n",
       "├─────────────────────┼───────────────────┼────────────┼───────────────────┤\n",
       "│ conv1d_28 (<span style=\"color: #0087ff; text-decoration-color: #0087ff\">Conv1D</span>)  │ (<span style=\"color: #00d7ff; text-decoration-color: #00d7ff\">None</span>, <span style=\"color: #00af00; text-decoration-color: #00af00\">512</span>, <span style=\"color: #00af00; text-decoration-color: #00af00\">32</span>)   │      <span style=\"color: #00af00; text-decoration-color: #00af00\">3,104</span> │ embedding_14[<span style=\"color: #00af00; text-decoration-color: #00af00\">0</span>][<span style=\"color: #00af00; text-decoration-color: #00af00\">…</span> │\n",
       "├─────────────────────┼───────────────────┼────────────┼───────────────────┤\n",
       "│ max_pooling1d_56    │ (<span style=\"color: #00d7ff; text-decoration-color: #00d7ff\">None</span>, <span style=\"color: #00af00; text-decoration-color: #00af00\">256</span>, <span style=\"color: #00af00; text-decoration-color: #00af00\">32</span>)   │          <span style=\"color: #00af00; text-decoration-color: #00af00\">0</span> │ conv1d_28[<span style=\"color: #00af00; text-decoration-color: #00af00\">0</span>][<span style=\"color: #00af00; text-decoration-color: #00af00\">0</span>]   │\n",
       "│ (<span style=\"color: #0087ff; text-decoration-color: #0087ff\">MaxPooling1D</span>)      │                   │            │                   │\n",
       "├─────────────────────┼───────────────────┼────────────┼───────────────────┤\n",
       "│ dropout_77          │ (<span style=\"color: #00d7ff; text-decoration-color: #00d7ff\">None</span>, <span style=\"color: #00af00; text-decoration-color: #00af00\">256</span>, <span style=\"color: #00af00; text-decoration-color: #00af00\">32</span>)   │          <span style=\"color: #00af00; text-decoration-color: #00af00\">0</span> │ max_pooling1d_56… │\n",
       "│ (<span style=\"color: #0087ff; text-decoration-color: #0087ff\">Dropout</span>)           │                   │            │                   │\n",
       "├─────────────────────┼───────────────────┼────────────┼───────────────────┤\n",
       "│ bidirectional_28    │ (<span style=\"color: #00d7ff; text-decoration-color: #00d7ff\">None</span>, <span style=\"color: #00af00; text-decoration-color: #00af00\">512</span>, <span style=\"color: #00af00; text-decoration-color: #00af00\">64</span>)   │     <span style=\"color: #00af00; text-decoration-color: #00af00\">16,640</span> │ embedding_14[<span style=\"color: #00af00; text-decoration-color: #00af00\">0</span>][<span style=\"color: #00af00; text-decoration-color: #00af00\">…</span> │\n",
       "│ (<span style=\"color: #0087ff; text-decoration-color: #0087ff\">Bidirectional</span>)     │                   │            │                   │\n",
       "├─────────────────────┼───────────────────┼────────────┼───────────────────┤\n",
       "│ conv1d_29 (<span style=\"color: #0087ff; text-decoration-color: #0087ff\">Conv1D</span>)  │ (<span style=\"color: #00d7ff; text-decoration-color: #00d7ff\">None</span>, <span style=\"color: #00af00; text-decoration-color: #00af00\">256</span>, <span style=\"color: #00af00; text-decoration-color: #00af00\">32</span>)   │      <span style=\"color: #00af00; text-decoration-color: #00af00\">3,104</span> │ dropout_77[<span style=\"color: #00af00; text-decoration-color: #00af00\">0</span>][<span style=\"color: #00af00; text-decoration-color: #00af00\">0</span>]  │\n",
       "├─────────────────────┼───────────────────┼────────────┼───────────────────┤\n",
       "│ max_pooling1d_58    │ (<span style=\"color: #00d7ff; text-decoration-color: #00d7ff\">None</span>, <span style=\"color: #00af00; text-decoration-color: #00af00\">256</span>, <span style=\"color: #00af00; text-decoration-color: #00af00\">64</span>)   │          <span style=\"color: #00af00; text-decoration-color: #00af00\">0</span> │ bidirectional_28… │\n",
       "│ (<span style=\"color: #0087ff; text-decoration-color: #0087ff\">MaxPooling1D</span>)      │                   │            │                   │\n",
       "├─────────────────────┼───────────────────┼────────────┼───────────────────┤\n",
       "│ max_pooling1d_57    │ (<span style=\"color: #00d7ff; text-decoration-color: #00d7ff\">None</span>, <span style=\"color: #00af00; text-decoration-color: #00af00\">128</span>, <span style=\"color: #00af00; text-decoration-color: #00af00\">32</span>)   │          <span style=\"color: #00af00; text-decoration-color: #00af00\">0</span> │ conv1d_29[<span style=\"color: #00af00; text-decoration-color: #00af00\">0</span>][<span style=\"color: #00af00; text-decoration-color: #00af00\">0</span>]   │\n",
       "│ (<span style=\"color: #0087ff; text-decoration-color: #0087ff\">MaxPooling1D</span>)      │                   │            │                   │\n",
       "├─────────────────────┼───────────────────┼────────────┼───────────────────┤\n",
       "│ bidirectional_29    │ (<span style=\"color: #00d7ff; text-decoration-color: #00d7ff\">None</span>, <span style=\"color: #00af00; text-decoration-color: #00af00\">256</span>, <span style=\"color: #00af00; text-decoration-color: #00af00\">64</span>)   │     <span style=\"color: #00af00; text-decoration-color: #00af00\">18,816</span> │ max_pooling1d_58… │\n",
       "│ (<span style=\"color: #0087ff; text-decoration-color: #0087ff\">Bidirectional</span>)     │                   │            │                   │\n",
       "├─────────────────────┼───────────────────┼────────────┼───────────────────┤\n",
       "│ layer_normalizatio… │ (<span style=\"color: #00d7ff; text-decoration-color: #00d7ff\">None</span>, <span style=\"color: #00af00; text-decoration-color: #00af00\">128</span>, <span style=\"color: #00af00; text-decoration-color: #00af00\">32</span>)   │         <span style=\"color: #00af00; text-decoration-color: #00af00\">64</span> │ max_pooling1d_57… │\n",
       "│ (<span style=\"color: #0087ff; text-decoration-color: #0087ff\">LayerNormalizatio…</span> │                   │            │                   │\n",
       "├─────────────────────┼───────────────────┼────────────┼───────────────────┤\n",
       "│ max_pooling1d_59    │ (<span style=\"color: #00d7ff; text-decoration-color: #00d7ff\">None</span>, <span style=\"color: #00af00; text-decoration-color: #00af00\">128</span>, <span style=\"color: #00af00; text-decoration-color: #00af00\">64</span>)   │          <span style=\"color: #00af00; text-decoration-color: #00af00\">0</span> │ bidirectional_29… │\n",
       "│ (<span style=\"color: #0087ff; text-decoration-color: #0087ff\">MaxPooling1D</span>)      │                   │            │                   │\n",
       "├─────────────────────┼───────────────────┼────────────┼───────────────────┤\n",
       "│ dropout_78          │ (<span style=\"color: #00d7ff; text-decoration-color: #00d7ff\">None</span>, <span style=\"color: #00af00; text-decoration-color: #00af00\">128</span>, <span style=\"color: #00af00; text-decoration-color: #00af00\">32</span>)   │          <span style=\"color: #00af00; text-decoration-color: #00af00\">0</span> │ layer_normalizat… │\n",
       "│ (<span style=\"color: #0087ff; text-decoration-color: #0087ff\">Dropout</span>)           │                   │            │                   │\n",
       "├─────────────────────┼───────────────────┼────────────┼───────────────────┤\n",
       "│ layer_normalizatio… │ (<span style=\"color: #00d7ff; text-decoration-color: #00d7ff\">None</span>, <span style=\"color: #00af00; text-decoration-color: #00af00\">128</span>, <span style=\"color: #00af00; text-decoration-color: #00af00\">64</span>)   │        <span style=\"color: #00af00; text-decoration-color: #00af00\">128</span> │ max_pooling1d_59… │\n",
       "│ (<span style=\"color: #0087ff; text-decoration-color: #0087ff\">LayerNormalizatio…</span> │                   │            │                   │\n",
       "├─────────────────────┼───────────────────┼────────────┼───────────────────┤\n",
       "│ concatenate_13      │ (<span style=\"color: #00d7ff; text-decoration-color: #00d7ff\">None</span>, <span style=\"color: #00af00; text-decoration-color: #00af00\">128</span>, <span style=\"color: #00af00; text-decoration-color: #00af00\">96</span>)   │          <span style=\"color: #00af00; text-decoration-color: #00af00\">0</span> │ dropout_78[<span style=\"color: #00af00; text-decoration-color: #00af00\">0</span>][<span style=\"color: #00af00; text-decoration-color: #00af00\">0</span>], │\n",
       "│ (<span style=\"color: #0087ff; text-decoration-color: #0087ff\">Concatenate</span>)       │                   │            │ layer_normalizat… │\n",
       "├─────────────────────┼───────────────────┼────────────┼───────────────────┤\n",
       "│ global_max_pooling… │ (<span style=\"color: #00d7ff; text-decoration-color: #00d7ff\">None</span>, <span style=\"color: #00af00; text-decoration-color: #00af00\">96</span>)        │          <span style=\"color: #00af00; text-decoration-color: #00af00\">0</span> │ concatenate_13[<span style=\"color: #00af00; text-decoration-color: #00af00\">0</span>… │\n",
       "│ (<span style=\"color: #0087ff; text-decoration-color: #0087ff\">GlobalMaxPooling1…</span> │                   │            │                   │\n",
       "├─────────────────────┼───────────────────┼────────────┼───────────────────┤\n",
       "│ layer_normalizatio… │ (<span style=\"color: #00d7ff; text-decoration-color: #00d7ff\">None</span>, <span style=\"color: #00af00; text-decoration-color: #00af00\">96</span>)        │        <span style=\"color: #00af00; text-decoration-color: #00af00\">192</span> │ global_max_pooli… │\n",
       "│ (<span style=\"color: #0087ff; text-decoration-color: #0087ff\">LayerNormalizatio…</span> │                   │            │                   │\n",
       "├─────────────────────┼───────────────────┼────────────┼───────────────────┤\n",
       "│ dense_62 (<span style=\"color: #0087ff; text-decoration-color: #0087ff\">Dense</span>)    │ (<span style=\"color: #00d7ff; text-decoration-color: #00d7ff\">None</span>, <span style=\"color: #00af00; text-decoration-color: #00af00\">90</span>)        │      <span style=\"color: #00af00; text-decoration-color: #00af00\">8,730</span> │ layer_normalizat… │\n",
       "├─────────────────────┼───────────────────┼────────────┼───────────────────┤\n",
       "│ dropout_79          │ (<span style=\"color: #00d7ff; text-decoration-color: #00d7ff\">None</span>, <span style=\"color: #00af00; text-decoration-color: #00af00\">90</span>)        │          <span style=\"color: #00af00; text-decoration-color: #00af00\">0</span> │ dense_62[<span style=\"color: #00af00; text-decoration-color: #00af00\">0</span>][<span style=\"color: #00af00; text-decoration-color: #00af00\">0</span>]    │\n",
       "│ (<span style=\"color: #0087ff; text-decoration-color: #0087ff\">Dropout</span>)           │                   │            │                   │\n",
       "├─────────────────────┼───────────────────┼────────────┼───────────────────┤\n",
       "│ dense_63 (<span style=\"color: #0087ff; text-decoration-color: #0087ff\">Dense</span>)    │ (<span style=\"color: #00d7ff; text-decoration-color: #00d7ff\">None</span>, <span style=\"color: #00af00; text-decoration-color: #00af00\">70</span>)        │      <span style=\"color: #00af00; text-decoration-color: #00af00\">6,370</span> │ dropout_79[<span style=\"color: #00af00; text-decoration-color: #00af00\">0</span>][<span style=\"color: #00af00; text-decoration-color: #00af00\">0</span>]  │\n",
       "├─────────────────────┼───────────────────┼────────────┼───────────────────┤\n",
       "│ dropout_80          │ (<span style=\"color: #00d7ff; text-decoration-color: #00d7ff\">None</span>, <span style=\"color: #00af00; text-decoration-color: #00af00\">70</span>)        │          <span style=\"color: #00af00; text-decoration-color: #00af00\">0</span> │ dense_63[<span style=\"color: #00af00; text-decoration-color: #00af00\">0</span>][<span style=\"color: #00af00; text-decoration-color: #00af00\">0</span>]    │\n",
       "│ (<span style=\"color: #0087ff; text-decoration-color: #0087ff\">Dropout</span>)           │                   │            │                   │\n",
       "├─────────────────────┼───────────────────┼────────────┼───────────────────┤\n",
       "│ dense_64 (<span style=\"color: #0087ff; text-decoration-color: #0087ff\">Dense</span>)    │ (<span style=\"color: #00d7ff; text-decoration-color: #00d7ff\">None</span>, <span style=\"color: #00af00; text-decoration-color: #00af00\">50</span>)        │      <span style=\"color: #00af00; text-decoration-color: #00af00\">3,550</span> │ dropout_80[<span style=\"color: #00af00; text-decoration-color: #00af00\">0</span>][<span style=\"color: #00af00; text-decoration-color: #00af00\">0</span>]  │\n",
       "├─────────────────────┼───────────────────┼────────────┼───────────────────┤\n",
       "│ dropout_81          │ (<span style=\"color: #00d7ff; text-decoration-color: #00d7ff\">None</span>, <span style=\"color: #00af00; text-decoration-color: #00af00\">50</span>)        │          <span style=\"color: #00af00; text-decoration-color: #00af00\">0</span> │ dense_64[<span style=\"color: #00af00; text-decoration-color: #00af00\">0</span>][<span style=\"color: #00af00; text-decoration-color: #00af00\">0</span>]    │\n",
       "│ (<span style=\"color: #0087ff; text-decoration-color: #0087ff\">Dropout</span>)           │                   │            │                   │\n",
       "├─────────────────────┼───────────────────┼────────────┼───────────────────┤\n",
       "│ dense_65 (<span style=\"color: #0087ff; text-decoration-color: #0087ff\">Dense</span>)    │ (<span style=\"color: #00d7ff; text-decoration-color: #00d7ff\">None</span>, <span style=\"color: #00af00; text-decoration-color: #00af00\">30</span>)        │      <span style=\"color: #00af00; text-decoration-color: #00af00\">1,530</span> │ dropout_81[<span style=\"color: #00af00; text-decoration-color: #00af00\">0</span>][<span style=\"color: #00af00; text-decoration-color: #00af00\">0</span>]  │\n",
       "├─────────────────────┼───────────────────┼────────────┼───────────────────┤\n",
       "│ dropout_82          │ (<span style=\"color: #00d7ff; text-decoration-color: #00d7ff\">None</span>, <span style=\"color: #00af00; text-decoration-color: #00af00\">30</span>)        │          <span style=\"color: #00af00; text-decoration-color: #00af00\">0</span> │ dense_65[<span style=\"color: #00af00; text-decoration-color: #00af00\">0</span>][<span style=\"color: #00af00; text-decoration-color: #00af00\">0</span>]    │\n",
       "│ (<span style=\"color: #0087ff; text-decoration-color: #0087ff\">Dropout</span>)           │                   │            │                   │\n",
       "├─────────────────────┼───────────────────┼────────────┼───────────────────┤\n",
       "│ dense_66 (<span style=\"color: #0087ff; text-decoration-color: #0087ff\">Dense</span>)    │ (<span style=\"color: #00d7ff; text-decoration-color: #00d7ff\">None</span>, <span style=\"color: #00af00; text-decoration-color: #00af00\">3</span>)         │         <span style=\"color: #00af00; text-decoration-color: #00af00\">93</span> │ dropout_82[<span style=\"color: #00af00; text-decoration-color: #00af00\">0</span>][<span style=\"color: #00af00; text-decoration-color: #00af00\">0</span>]  │\n",
       "└─────────────────────┴───────────────────┴────────────┴───────────────────┘\n",
       "</pre>\n"
      ],
      "text/plain": [
       "┏━━━━━━━━━━━━━━━━━━━━━┳━━━━━━━━━━━━━━━━━━━┳━━━━━━━━━━━━┳━━━━━━━━━━━━━━━━━━━┓\n",
       "┃\u001b[1m \u001b[0m\u001b[1mLayer (type)       \u001b[0m\u001b[1m \u001b[0m┃\u001b[1m \u001b[0m\u001b[1mOutput Shape     \u001b[0m\u001b[1m \u001b[0m┃\u001b[1m \u001b[0m\u001b[1m   Param #\u001b[0m\u001b[1m \u001b[0m┃\u001b[1m \u001b[0m\u001b[1mConnected to     \u001b[0m\u001b[1m \u001b[0m┃\n",
       "┡━━━━━━━━━━━━━━━━━━━━━╇━━━━━━━━━━━━━━━━━━━╇━━━━━━━━━━━━╇━━━━━━━━━━━━━━━━━━━┩\n",
       "│ input_layer_14      │ (\u001b[38;5;45mNone\u001b[0m, \u001b[38;5;34m512\u001b[0m)       │          \u001b[38;5;34m0\u001b[0m │ -                 │\n",
       "│ (\u001b[38;5;33mInputLayer\u001b[0m)        │                   │            │                   │\n",
       "├─────────────────────┼───────────────────┼────────────┼───────────────────┤\n",
       "│ embedding_14        │ (\u001b[38;5;45mNone\u001b[0m, \u001b[38;5;34m512\u001b[0m, \u001b[38;5;34m32\u001b[0m)   │    \u001b[38;5;34m214,368\u001b[0m │ input_layer_14[\u001b[38;5;34m0\u001b[0m… │\n",
       "│ (\u001b[38;5;33mEmbedding\u001b[0m)         │                   │            │                   │\n",
       "├─────────────────────┼───────────────────┼────────────┼───────────────────┤\n",
       "│ conv1d_28 (\u001b[38;5;33mConv1D\u001b[0m)  │ (\u001b[38;5;45mNone\u001b[0m, \u001b[38;5;34m512\u001b[0m, \u001b[38;5;34m32\u001b[0m)   │      \u001b[38;5;34m3,104\u001b[0m │ embedding_14[\u001b[38;5;34m0\u001b[0m][\u001b[38;5;34m…\u001b[0m │\n",
       "├─────────────────────┼───────────────────┼────────────┼───────────────────┤\n",
       "│ max_pooling1d_56    │ (\u001b[38;5;45mNone\u001b[0m, \u001b[38;5;34m256\u001b[0m, \u001b[38;5;34m32\u001b[0m)   │          \u001b[38;5;34m0\u001b[0m │ conv1d_28[\u001b[38;5;34m0\u001b[0m][\u001b[38;5;34m0\u001b[0m]   │\n",
       "│ (\u001b[38;5;33mMaxPooling1D\u001b[0m)      │                   │            │                   │\n",
       "├─────────────────────┼───────────────────┼────────────┼───────────────────┤\n",
       "│ dropout_77          │ (\u001b[38;5;45mNone\u001b[0m, \u001b[38;5;34m256\u001b[0m, \u001b[38;5;34m32\u001b[0m)   │          \u001b[38;5;34m0\u001b[0m │ max_pooling1d_56… │\n",
       "│ (\u001b[38;5;33mDropout\u001b[0m)           │                   │            │                   │\n",
       "├─────────────────────┼───────────────────┼────────────┼───────────────────┤\n",
       "│ bidirectional_28    │ (\u001b[38;5;45mNone\u001b[0m, \u001b[38;5;34m512\u001b[0m, \u001b[38;5;34m64\u001b[0m)   │     \u001b[38;5;34m16,640\u001b[0m │ embedding_14[\u001b[38;5;34m0\u001b[0m][\u001b[38;5;34m…\u001b[0m │\n",
       "│ (\u001b[38;5;33mBidirectional\u001b[0m)     │                   │            │                   │\n",
       "├─────────────────────┼───────────────────┼────────────┼───────────────────┤\n",
       "│ conv1d_29 (\u001b[38;5;33mConv1D\u001b[0m)  │ (\u001b[38;5;45mNone\u001b[0m, \u001b[38;5;34m256\u001b[0m, \u001b[38;5;34m32\u001b[0m)   │      \u001b[38;5;34m3,104\u001b[0m │ dropout_77[\u001b[38;5;34m0\u001b[0m][\u001b[38;5;34m0\u001b[0m]  │\n",
       "├─────────────────────┼───────────────────┼────────────┼───────────────────┤\n",
       "│ max_pooling1d_58    │ (\u001b[38;5;45mNone\u001b[0m, \u001b[38;5;34m256\u001b[0m, \u001b[38;5;34m64\u001b[0m)   │          \u001b[38;5;34m0\u001b[0m │ bidirectional_28… │\n",
       "│ (\u001b[38;5;33mMaxPooling1D\u001b[0m)      │                   │            │                   │\n",
       "├─────────────────────┼───────────────────┼────────────┼───────────────────┤\n",
       "│ max_pooling1d_57    │ (\u001b[38;5;45mNone\u001b[0m, \u001b[38;5;34m128\u001b[0m, \u001b[38;5;34m32\u001b[0m)   │          \u001b[38;5;34m0\u001b[0m │ conv1d_29[\u001b[38;5;34m0\u001b[0m][\u001b[38;5;34m0\u001b[0m]   │\n",
       "│ (\u001b[38;5;33mMaxPooling1D\u001b[0m)      │                   │            │                   │\n",
       "├─────────────────────┼───────────────────┼────────────┼───────────────────┤\n",
       "│ bidirectional_29    │ (\u001b[38;5;45mNone\u001b[0m, \u001b[38;5;34m256\u001b[0m, \u001b[38;5;34m64\u001b[0m)   │     \u001b[38;5;34m18,816\u001b[0m │ max_pooling1d_58… │\n",
       "│ (\u001b[38;5;33mBidirectional\u001b[0m)     │                   │            │                   │\n",
       "├─────────────────────┼───────────────────┼────────────┼───────────────────┤\n",
       "│ layer_normalizatio… │ (\u001b[38;5;45mNone\u001b[0m, \u001b[38;5;34m128\u001b[0m, \u001b[38;5;34m32\u001b[0m)   │         \u001b[38;5;34m64\u001b[0m │ max_pooling1d_57… │\n",
       "│ (\u001b[38;5;33mLayerNormalizatio…\u001b[0m │                   │            │                   │\n",
       "├─────────────────────┼───────────────────┼────────────┼───────────────────┤\n",
       "│ max_pooling1d_59    │ (\u001b[38;5;45mNone\u001b[0m, \u001b[38;5;34m128\u001b[0m, \u001b[38;5;34m64\u001b[0m)   │          \u001b[38;5;34m0\u001b[0m │ bidirectional_29… │\n",
       "│ (\u001b[38;5;33mMaxPooling1D\u001b[0m)      │                   │            │                   │\n",
       "├─────────────────────┼───────────────────┼────────────┼───────────────────┤\n",
       "│ dropout_78          │ (\u001b[38;5;45mNone\u001b[0m, \u001b[38;5;34m128\u001b[0m, \u001b[38;5;34m32\u001b[0m)   │          \u001b[38;5;34m0\u001b[0m │ layer_normalizat… │\n",
       "│ (\u001b[38;5;33mDropout\u001b[0m)           │                   │            │                   │\n",
       "├─────────────────────┼───────────────────┼────────────┼───────────────────┤\n",
       "│ layer_normalizatio… │ (\u001b[38;5;45mNone\u001b[0m, \u001b[38;5;34m128\u001b[0m, \u001b[38;5;34m64\u001b[0m)   │        \u001b[38;5;34m128\u001b[0m │ max_pooling1d_59… │\n",
       "│ (\u001b[38;5;33mLayerNormalizatio…\u001b[0m │                   │            │                   │\n",
       "├─────────────────────┼───────────────────┼────────────┼───────────────────┤\n",
       "│ concatenate_13      │ (\u001b[38;5;45mNone\u001b[0m, \u001b[38;5;34m128\u001b[0m, \u001b[38;5;34m96\u001b[0m)   │          \u001b[38;5;34m0\u001b[0m │ dropout_78[\u001b[38;5;34m0\u001b[0m][\u001b[38;5;34m0\u001b[0m], │\n",
       "│ (\u001b[38;5;33mConcatenate\u001b[0m)       │                   │            │ layer_normalizat… │\n",
       "├─────────────────────┼───────────────────┼────────────┼───────────────────┤\n",
       "│ global_max_pooling… │ (\u001b[38;5;45mNone\u001b[0m, \u001b[38;5;34m96\u001b[0m)        │          \u001b[38;5;34m0\u001b[0m │ concatenate_13[\u001b[38;5;34m0\u001b[0m… │\n",
       "│ (\u001b[38;5;33mGlobalMaxPooling1…\u001b[0m │                   │            │                   │\n",
       "├─────────────────────┼───────────────────┼────────────┼───────────────────┤\n",
       "│ layer_normalizatio… │ (\u001b[38;5;45mNone\u001b[0m, \u001b[38;5;34m96\u001b[0m)        │        \u001b[38;5;34m192\u001b[0m │ global_max_pooli… │\n",
       "│ (\u001b[38;5;33mLayerNormalizatio…\u001b[0m │                   │            │                   │\n",
       "├─────────────────────┼───────────────────┼────────────┼───────────────────┤\n",
       "│ dense_62 (\u001b[38;5;33mDense\u001b[0m)    │ (\u001b[38;5;45mNone\u001b[0m, \u001b[38;5;34m90\u001b[0m)        │      \u001b[38;5;34m8,730\u001b[0m │ layer_normalizat… │\n",
       "├─────────────────────┼───────────────────┼────────────┼───────────────────┤\n",
       "│ dropout_79          │ (\u001b[38;5;45mNone\u001b[0m, \u001b[38;5;34m90\u001b[0m)        │          \u001b[38;5;34m0\u001b[0m │ dense_62[\u001b[38;5;34m0\u001b[0m][\u001b[38;5;34m0\u001b[0m]    │\n",
       "│ (\u001b[38;5;33mDropout\u001b[0m)           │                   │            │                   │\n",
       "├─────────────────────┼───────────────────┼────────────┼───────────────────┤\n",
       "│ dense_63 (\u001b[38;5;33mDense\u001b[0m)    │ (\u001b[38;5;45mNone\u001b[0m, \u001b[38;5;34m70\u001b[0m)        │      \u001b[38;5;34m6,370\u001b[0m │ dropout_79[\u001b[38;5;34m0\u001b[0m][\u001b[38;5;34m0\u001b[0m]  │\n",
       "├─────────────────────┼───────────────────┼────────────┼───────────────────┤\n",
       "│ dropout_80          │ (\u001b[38;5;45mNone\u001b[0m, \u001b[38;5;34m70\u001b[0m)        │          \u001b[38;5;34m0\u001b[0m │ dense_63[\u001b[38;5;34m0\u001b[0m][\u001b[38;5;34m0\u001b[0m]    │\n",
       "│ (\u001b[38;5;33mDropout\u001b[0m)           │                   │            │                   │\n",
       "├─────────────────────┼───────────────────┼────────────┼───────────────────┤\n",
       "│ dense_64 (\u001b[38;5;33mDense\u001b[0m)    │ (\u001b[38;5;45mNone\u001b[0m, \u001b[38;5;34m50\u001b[0m)        │      \u001b[38;5;34m3,550\u001b[0m │ dropout_80[\u001b[38;5;34m0\u001b[0m][\u001b[38;5;34m0\u001b[0m]  │\n",
       "├─────────────────────┼───────────────────┼────────────┼───────────────────┤\n",
       "│ dropout_81          │ (\u001b[38;5;45mNone\u001b[0m, \u001b[38;5;34m50\u001b[0m)        │          \u001b[38;5;34m0\u001b[0m │ dense_64[\u001b[38;5;34m0\u001b[0m][\u001b[38;5;34m0\u001b[0m]    │\n",
       "│ (\u001b[38;5;33mDropout\u001b[0m)           │                   │            │                   │\n",
       "├─────────────────────┼───────────────────┼────────────┼───────────────────┤\n",
       "│ dense_65 (\u001b[38;5;33mDense\u001b[0m)    │ (\u001b[38;5;45mNone\u001b[0m, \u001b[38;5;34m30\u001b[0m)        │      \u001b[38;5;34m1,530\u001b[0m │ dropout_81[\u001b[38;5;34m0\u001b[0m][\u001b[38;5;34m0\u001b[0m]  │\n",
       "├─────────────────────┼───────────────────┼────────────┼───────────────────┤\n",
       "│ dropout_82          │ (\u001b[38;5;45mNone\u001b[0m, \u001b[38;5;34m30\u001b[0m)        │          \u001b[38;5;34m0\u001b[0m │ dense_65[\u001b[38;5;34m0\u001b[0m][\u001b[38;5;34m0\u001b[0m]    │\n",
       "│ (\u001b[38;5;33mDropout\u001b[0m)           │                   │            │                   │\n",
       "├─────────────────────┼───────────────────┼────────────┼───────────────────┤\n",
       "│ dense_66 (\u001b[38;5;33mDense\u001b[0m)    │ (\u001b[38;5;45mNone\u001b[0m, \u001b[38;5;34m3\u001b[0m)         │         \u001b[38;5;34m93\u001b[0m │ dropout_82[\u001b[38;5;34m0\u001b[0m][\u001b[38;5;34m0\u001b[0m]  │\n",
       "└─────────────────────┴───────────────────┴────────────┴───────────────────┘\n"
      ]
     },
     "metadata": {},
     "output_type": "display_data"
    },
    {
     "data": {
      "text/html": [
       "<pre style=\"white-space:pre;overflow-x:auto;line-height:normal;font-family:Menlo,'DejaVu Sans Mono',consolas,'Courier New',monospace\"><span style=\"font-weight: bold\"> Total params: </span><span style=\"color: #00af00; text-decoration-color: #00af00\">276,689</span> (1.06 MB)\n",
       "</pre>\n"
      ],
      "text/plain": [
       "\u001b[1m Total params: \u001b[0m\u001b[38;5;34m276,689\u001b[0m (1.06 MB)\n"
      ]
     },
     "metadata": {},
     "output_type": "display_data"
    },
    {
     "data": {
      "text/html": [
       "<pre style=\"white-space:pre;overflow-x:auto;line-height:normal;font-family:Menlo,'DejaVu Sans Mono',consolas,'Courier New',monospace\"><span style=\"font-weight: bold\"> Trainable params: </span><span style=\"color: #00af00; text-decoration-color: #00af00\">276,689</span> (1.06 MB)\n",
       "</pre>\n"
      ],
      "text/plain": [
       "\u001b[1m Trainable params: \u001b[0m\u001b[38;5;34m276,689\u001b[0m (1.06 MB)\n"
      ]
     },
     "metadata": {},
     "output_type": "display_data"
    },
    {
     "data": {
      "text/html": [
       "<pre style=\"white-space:pre;overflow-x:auto;line-height:normal;font-family:Menlo,'DejaVu Sans Mono',consolas,'Courier New',monospace\"><span style=\"font-weight: bold\"> Non-trainable params: </span><span style=\"color: #00af00; text-decoration-color: #00af00\">0</span> (0.00 B)\n",
       "</pre>\n"
      ],
      "text/plain": [
       "\u001b[1m Non-trainable params: \u001b[0m\u001b[38;5;34m0\u001b[0m (0.00 B)\n"
      ]
     },
     "metadata": {},
     "output_type": "display_data"
    }
   ],
   "source": [
    "def generate_model():# hàm chạy chính cho model kstm và cnn\n",
    "    dropout_threshold =0.4\n",
    "    input_dim =data_voca_size\n",
    "    ouput_dim =32\n",
    "    input_length = 512\n",
    "    initializer= tf.keras.initializers.GlorotNormal()\n",
    "    \n",
    "    input_layer = Input(shape=(input_length,))\n",
    "    feature =Embedding(input_dim=input_dim, output_dim=ouput_dim,input_length=input_length, embeddings_initializer=\"GlorotNormal\")(input_layer)\n",
    "    cnn_feature =Conv1D(filters=32, kernel_size=3, padding='same',activation='relu')(feature)\n",
    "    cnn_feature =MaxPooling1D()(cnn_feature)\n",
    "    cnn_feature =Dropout(dropout_threshold)(cnn_feature)\n",
    "    cnn_feature = Conv1D(filters=32, kernel_size=3, padding='same',activation='relu')(cnn_feature)\n",
    "    cnn_feature =MaxPooling1D()(cnn_feature)\n",
    "    cnn_feature =LayerNormalization()(cnn_feature)\n",
    "    cnn_feature = Dropout(dropout_threshold)(cnn_feature)\n",
    "    #bidirectional kstm\n",
    "    bi_sktm_feature = Bidirectional(LSTM(units=32, dropout=dropout_threshold,return_sequences=True,kernel_initializer=initializer),merge_mode='concat')(feature)\n",
    "    bi_sktm_feature = MaxPooling1D()(bi_sktm_feature)\n",
    "    bi_sktm_feature = Bidirectional(GRU(units=32, dropout=dropout_threshold,return_sequences=True,kernel_initializer=initializer),merge_mode='concat')(bi_sktm_feature)\n",
    "    bi_sktm_feature = MaxPooling1D()(bi_sktm_feature)\n",
    "    bi_sktm_feature = LayerNormalization()(bi_sktm_feature)\n",
    "    combine_feature =tf.keras.layers.Concatenate()([cnn_feature,bi_sktm_feature])\n",
    "    combine_feature =GlobalMaxPooling1D()(combine_feature)\n",
    "    combine_feature =LayerNormalization()(combine_feature)\n",
    "    Classifier =Dense(90, activation='relu')(combine_feature)\n",
    "    Classifier =Dropout(0.2)(Classifier)\n",
    "    Classifier =Dense(70, activation='relu')(Classifier)\n",
    "    Classifier =Dropout(0.2)(Classifier)\n",
    "    Classifier =Dense(50, activation='relu')(Classifier)\n",
    "    Classifier =Dropout(0.2)(Classifier)\n",
    "    Classifier =Dense(30, activation='relu')(Classifier)\n",
    "    Classifier =Dropout(0.2)(Classifier)\n",
    "    Classifier =Dense(3, activation='softmax')(Classifier)\n",
    "    \n",
    "    model= tf.keras.Model(inputs = input_layer, outputs =Classifier)\n",
    "    return model\n",
    "model =generate_model()\n",
    "adam = Adam(learning_rate=0.001)\n",
    "model.compile(optimizer=adam,loss='categorical_crossentropy',metrics=['accuracy'])\n",
    "model.summary()\n"
   ]
  },
  {
   "cell_type": "markdown",
   "metadata": {},
   "source": [
    "### # Define model checkPoint & training"
   ]
  },
  {
   "cell_type": "code",
   "execution_count": 134,
   "metadata": {},
   "outputs": [
    {
     "name": "stdout",
     "output_type": "stream",
     "text": [
      "Epoch 1/15\n",
      "\u001b[1m91/91\u001b[0m \u001b[32m━━━━━━━━━━━━━━━━━━━━\u001b[0m\u001b[37m\u001b[0m \u001b[1m36s\u001b[0m 319ms/step - accuracy: 0.3336 - loss: 1.1246 - val_accuracy: 0.3584 - val_loss: 1.0986\n",
      "Epoch 2/15\n",
      "\u001b[1m91/91\u001b[0m \u001b[32m━━━━━━━━━━━━━━━━━━━━\u001b[0m\u001b[37m\u001b[0m \u001b[1m29s\u001b[0m 317ms/step - accuracy: 0.3481 - loss: 1.1013 - val_accuracy: 0.3584 - val_loss: 1.0960\n",
      "Epoch 3/15\n",
      "\u001b[1m91/91\u001b[0m \u001b[32m━━━━━━━━━━━━━━━━━━━━\u001b[0m\u001b[37m\u001b[0m \u001b[1m29s\u001b[0m 324ms/step - accuracy: 0.3416 - loss: 1.0986 - val_accuracy: 0.3421 - val_loss: 1.0967\n",
      "Epoch 4/15\n",
      "\u001b[1m91/91\u001b[0m \u001b[32m━━━━━━━━━━━━━━━━━━━━\u001b[0m\u001b[37m\u001b[0m \u001b[1m31s\u001b[0m 338ms/step - accuracy: 0.3518 - loss: 1.0974 - val_accuracy: 0.3584 - val_loss: 1.0957\n",
      "Epoch 5/15\n",
      "\u001b[1m91/91\u001b[0m \u001b[32m━━━━━━━━━━━━━━━━━━━━\u001b[0m\u001b[37m\u001b[0m \u001b[1m32s\u001b[0m 352ms/step - accuracy: 0.3466 - loss: 1.0971 - val_accuracy: 0.3584 - val_loss: 1.0966\n",
      "Epoch 6/15\n",
      "\u001b[1m91/91\u001b[0m \u001b[32m━━━━━━━━━━━━━━━━━━━━\u001b[0m\u001b[37m\u001b[0m \u001b[1m33s\u001b[0m 367ms/step - accuracy: 0.3479 - loss: 1.0970 - val_accuracy: 0.3429 - val_loss: 1.0962\n",
      "Epoch 7/15\n",
      "\u001b[1m91/91\u001b[0m \u001b[32m━━━━━━━━━━━━━━━━━━━━\u001b[0m\u001b[37m\u001b[0m \u001b[1m32s\u001b[0m 352ms/step - accuracy: 0.3567 - loss: 1.0959 - val_accuracy: 0.3506 - val_loss: 1.0954\n",
      "Epoch 8/15\n",
      "\u001b[1m91/91\u001b[0m \u001b[32m━━━━━━━━━━━━━━━━━━━━\u001b[0m\u001b[37m\u001b[0m \u001b[1m30s\u001b[0m 324ms/step - accuracy: 0.3477 - loss: 1.0984 - val_accuracy: 0.3421 - val_loss: 1.0953\n",
      "Epoch 9/15\n",
      "\u001b[1m91/91\u001b[0m \u001b[32m━━━━━━━━━━━━━━━━━━━━\u001b[0m\u001b[37m\u001b[0m \u001b[1m30s\u001b[0m 334ms/step - accuracy: 0.3689 - loss: 1.0930 - val_accuracy: 0.3537 - val_loss: 1.0874\n",
      "Epoch 10/15\n",
      "\u001b[1m91/91\u001b[0m \u001b[32m━━━━━━━━━━━━━━━━━━━━\u001b[0m\u001b[37m\u001b[0m \u001b[1m32s\u001b[0m 354ms/step - accuracy: 0.3885 - loss: 1.0783 - val_accuracy: 0.5062 - val_loss: 1.0073\n",
      "Epoch 11/15\n",
      "\u001b[1m91/91\u001b[0m \u001b[32m━━━━━━━━━━━━━━━━━━━━\u001b[0m\u001b[37m\u001b[0m \u001b[1m34s\u001b[0m 378ms/step - accuracy: 0.5106 - loss: 0.9853 - val_accuracy: 0.5480 - val_loss: 0.9251\n",
      "Epoch 12/15\n",
      "\u001b[1m91/91\u001b[0m \u001b[32m━━━━━━━━━━━━━━━━━━━━\u001b[0m\u001b[37m\u001b[0m \u001b[1m34s\u001b[0m 376ms/step - accuracy: 0.5856 - loss: 0.8961 - val_accuracy: 0.5851 - val_loss: 0.8699\n",
      "Epoch 13/15\n",
      "\u001b[1m91/91\u001b[0m \u001b[32m━━━━━━━━━━━━━━━━━━━━\u001b[0m\u001b[37m\u001b[0m \u001b[1m30s\u001b[0m 324ms/step - accuracy: 0.6175 - loss: 0.8175 - val_accuracy: 0.6238 - val_loss: 0.8475\n",
      "Epoch 14/15\n",
      "\u001b[1m91/91\u001b[0m \u001b[32m━━━━━━━━━━━━━━━━━━━━\u001b[0m\u001b[37m\u001b[0m \u001b[1m30s\u001b[0m 328ms/step - accuracy: 0.6939 - loss: 0.7142 - val_accuracy: 0.6618 - val_loss: 0.7767\n",
      "Epoch 15/15\n",
      "\u001b[1m91/91\u001b[0m \u001b[32m━━━━━━━━━━━━━━━━━━━━\u001b[0m\u001b[37m\u001b[0m \u001b[1m29s\u001b[0m 318ms/step - accuracy: 0.7215 - loss: 0.6795 - val_accuracy: 0.7036 - val_loss: 0.7177\n"
     ]
    }
   ],
   "source": [
    "callback_model =tf.keras.callbacks.ModelCheckpoint('model.keras',monitor='val_loss')\n",
    "history =model.fit(x=x_train,y=y_train,validation_data=(x_val,y_val),epochs=15, batch_size=64,callbacks=[callback_model])"
   ]
  },
  {
   "cell_type": "markdown",
   "metadata": {},
   "source": [
    "### #model load on test data"
   ]
  },
  {
   "cell_type": "code",
   "execution_count": 135,
   "metadata": {},
   "outputs": [
    {
     "name": "stdout",
     "output_type": "stream",
     "text": [
      "\u001b[1m21/21\u001b[0m \u001b[32m━━━━━━━━━━━━━━━━━━━━\u001b[0m\u001b[37m\u001b[0m \u001b[1m1s\u001b[0m 65ms/step - accuracy: 0.5547 - loss: 0.9924\n"
     ]
    },
    {
     "data": {
      "text/plain": [
       "[0.9509456753730774, 0.5820433497428894]"
      ]
     },
     "execution_count": 135,
     "metadata": {},
     "output_type": "execute_result"
    }
   ],
   "source": [
    "model.load_weights(\"model.keras\")\n",
    "model.evaluate(x_test,y_test)"
   ]
  },
  {
   "cell_type": "code",
   "execution_count": 138,
   "metadata": {},
   "outputs": [
    {
     "name": "stdout",
     "output_type": "stream",
     "text": [
      "text preprocessed:  phim gây thất_vọng cho người xem\n",
      "('negative', 0.6750420928001404)\n"
     ]
    }
   ],
   "source": [
    "def preprocess_input(raw_input, tokenizer):\n",
    "    input_text_pre =list(tf.keras.preprocessing.text.text_to_word_sequence(raw_input))\n",
    "    input_text_pre =\" \".join(input_text_pre)\n",
    "    input_text_pre_accent= ViTokenizer.tokenize(input_text_pre)\n",
    "    print(\"text preprocessed: \",input_text_pre_accent)\n",
    "    tokenizer_data_text=tokenizer.texts_to_sequences([input_text_pre_accent])\n",
    "    vec_data = pad_sequences(tokenizer_data_text,padding='post',maxlen =512)\n",
    "    return vec_data\n",
    "def inference_model(input_feature,model):\n",
    "    output=model(input_feature).numpy()[0]\n",
    "    result =output.argmax()\n",
    "    conf =float(output.max())\n",
    "    label_dictionary={'negative':0,'neutral':1,'positive':2}\n",
    "    label =list(label_dictionary.keys())\n",
    "    return label[int(result)],conf\n",
    "def prediction(raw_input, tokenizer,model):\n",
    "    input_model=preprocess_input(raw_input,tokenizer_data)\n",
    "    result,conf=inference_model(input_model,model)\n",
    "    return result, conf\n",
    "m_model= generate_model()\n",
    "m_model=load_model('model.keras')\n",
    "with open(r\"tokenizer_data.pkl\",\"rb\")as input_file:\n",
    "    my_tokenizer=pickle.load(input_file)\n",
    "print(prediction(\"phim gây thất vọng cho người xem\",my_tokenizer,m_model))"
   ]
  },
  {
   "cell_type": "code",
   "execution_count": 137,
   "metadata": {},
   "outputs": [],
   "source": [
    "#while(True):\n",
    " #   text=input()\n",
    "   # if text ==\"end\":\n",
    "   #     break\n",
    "   # else:\n",
    "    #    print(prediction(text,my_tokenizer,m_model)[0]+\"\\n\")"
   ]
  }
 ],
 "metadata": {
  "kernelspec": {
   "display_name": "Python 3",
   "language": "python",
   "name": "python3"
  },
  "language_info": {
   "codemirror_mode": {
    "name": "ipython",
    "version": 3
   },
   "file_extension": ".py",
   "mimetype": "text/x-python",
   "name": "python",
   "nbconvert_exporter": "python",
   "pygments_lexer": "ipython3",
   "version": "3.11.0"
  }
 },
 "nbformat": 4,
 "nbformat_minor": 2
}
