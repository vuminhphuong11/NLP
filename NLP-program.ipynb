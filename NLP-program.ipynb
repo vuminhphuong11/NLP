{
 "cells": [
  {
   "cell_type": "code",
   "execution_count": 31,
   "metadata": {},
   "outputs": [
    {
     "name": "stdout",
     "output_type": "stream",
     "text": [
      "Dữ liệu đã được lọc và lưu vào file du_lieu.json\n"
     ]
    }
   ],
   "source": [
    "# code để lọc cột name khỏi file dữ liệu gốc\n",
    "import json\n",
    "import pandas as pd\n",
    "# Đọc dữ liệu từ file JSON gốc\n",
    "input_file = 'du_lieu_goc.json' # đây là file của kiệt ban đầu gửi đã đc đổi tên\n",
    "output_file = 'du_lieu.json'# sau khi mà lọc bỏ cột name không cần thiết dữ liệu sẽ đc đưa vào đây\n",
    "# Đọc file JSON\n",
    "with open(input_file, 'r', encoding='utf-8') as f:\n",
    "    data = json.load(f)\n",
    "# Chuyển đổi dữ liệu thành DataFrame\n",
    "df = pd.DataFrame(data)\n",
    "# Xóa cột \"Name\"\n",
    "if 'Name (click to view profile)' in df.columns:\n",
    "    df = df.drop(columns=['Name (click to view profile)'])\n",
    "# Ghi dữ liệu đã lọc vào file JSON mới\n",
    "df.to_json(output_file, orient='records', force_ascii=False, indent=4)\n",
    "print(f\"Dữ liệu đã được lọc và lưu vào file {output_file}\")\n"
   ]
  },
  {
   "cell_type": "code",
   "execution_count": 32,
   "metadata": {},
   "outputs": [
    {
     "name": "stdout",
     "output_type": "stream",
     "text": [
      "Dữ liệu đã được ghi vào tien_xu_li_1.json\n"
     ]
    }
   ],
   "source": [
    "# tiền xử lí\n",
    "import json\n",
    "import re\n",
    "# Đọc file JSON\n",
    "file_path = 'du_lieu.json'  # file cần xử lý\n",
    "output_file_path = 'tien_xu_li_1.json'\n",
    "# Đọc danh sách stopwords từ file vietnamese_stopwords.txt\n",
    "def load_stopwords(file_path):\n",
    "    with open(file_path, 'r', encoding='utf-8') as f:\n",
    "        stopwords = set(f.read().splitlines())  # Đọc từng dòng và lưu vào set\n",
    "    return stopwords\n",
    "# Lấy danh sách stopwords từ file\n",
    "stopwords = load_stopwords('vietnamese_stopwords.txt')\n",
    "def clean_text(text):\n",
    "    # Loại bỏ emoji, ký tự đặc biệt, chỉ giữ lại chữ cái và khoảng trắng\n",
    "    text = re.sub(r'[^\\w\\sáàạảãạăắằặẳẵâấầậẩẫéèẹẻẽêếềệểễíìịỉĩóòọỏõôốồộổỗơớờợởỡúùụủũưứừựửữýỳýỵỷỹđ]', '', text)\n",
    "    # Chuyển tất cả chữ về dạng viết thường\n",
    "    text = text.lower()\n",
    "    # Loại bỏ stopwords\n",
    "    text = ' '.join([word for word in text.split() if word not in stopwords])\n",
    "    return text\n",
    "# Đọc dữ liệu từ file JSON\n",
    "with open(file_path, 'r', encoding='utf-8') as f:\n",
    "    data = json.load(f)\n",
    "# Lọc và xử lý các mục comment, kiểm tra label và chỉ ghi lại những phần hợp lệ\n",
    "processed_data = []\n",
    "for item in data:\n",
    "    comment = item.get('Comment', None)\n",
    "    label = item.get('Label', None)\n",
    "    # Kiểm tra xem cả comment và label có bị null không\n",
    "    if comment and label:\n",
    "        # Xử lý comment nếu có\n",
    "        item['Comment'] = clean_text(comment)\n",
    "        processed_data.append(item)\n",
    "    else:\n",
    "        if comment is None:\n",
    "            print(f\"Comment null tại chỉ mục {data.index(item)}\")\n",
    "        if label is None:\n",
    "            print(f\"Label null tại chỉ mục {data.index(item)}\")\n",
    "# Ghi lại dữ liệu đã xử lý vào file JSON mới\n",
    "with open(output_file_path, 'w', encoding='utf-8') as f:\n",
    "    json.dump(processed_data, f, ensure_ascii=False, indent=4)\n",
    "print(f\"Dữ liệu đã được ghi vào {output_file_path}\")"
   ]
  },
  {
   "cell_type": "code",
   "execution_count": 33,
   "metadata": {},
   "outputs": [
    {
     "name": "stdout",
     "output_type": "stream",
     "text": [
      "Dữ liệu đã được ghi vào output_data.json\n"
     ]
    }
   ],
   "source": [
    "#tokenization\n",
    "import json\n",
    "import re\n",
    "\n",
    "# Hàm tokenization đơn giản\n",
    "def tokenize(text):\n",
    "    # Tách câu thành các token dựa trên khoảng trắng và các ký tự đặc biệt\n",
    "    tokens = re.findall(r'\\w+', text.lower())  # Token hóa và chuyển về chữ thường\n",
    "    return tokens\n",
    "\n",
    "# Đọc dữ liệu từ file JSON\n",
    "file_path = 'tien_xu_li_1.json'  # Đường dẫn đến file JSON đầu vào\n",
    "output_file_path = 'output_data.json'  # Đường dẫn đến file JSON đầu ra\n",
    "# Đọc dữ liệu từ file JSON\n",
    "with open(file_path, 'r', encoding='utf-8') as f:\n",
    "    data = json.load(f)\n",
    "# Xử lý và tokenization\n",
    "processed_data = []\n",
    "for item in data:\n",
    "    comment = item.get('Comment', '')\n",
    "    label = item.get('Label', '')  \n",
    "    if comment:  # Nếu comment không trống\n",
    "        # Tách comment thành các token\n",
    "        tokens = tokenize(comment)\n",
    "        item['Comment'] = tokens  # Lưu lại danh sách token vào mục 'Comment'\n",
    "    # Thêm phần tử đã xử lý vào danh sách\n",
    "    processed_data.append(item)\n",
    "# Ghi dữ liệu đã xử lý vào file JSON mới\n",
    "with open(output_file_path, 'w', encoding='utf-8') as f:\n",
    "    json.dump(processed_data, f, ensure_ascii=False, indent=4)\n",
    "print(f\"Dữ liệu đã được ghi vào {output_file_path}\")\n"
   ]
  },
  {
   "cell_type": "code",
   "execution_count": 34,
   "metadata": {},
   "outputs": [
    {
     "name": "stdout",
     "output_type": "stream",
     "text": [
      "Label\n",
      "positive    452\n",
      "negative    376\n",
      "neutral     189\n",
      "Name: count, dtype: int64\n"
     ]
    }
   ],
   "source": [
    "#đếm dữ liệu từng nhãn\n",
    "import json\n",
    "import pandas as pd\n",
    "# Đọc dữ liệu từ file JSON\n",
    "with open('tien_xu_li_1.json', 'r', encoding='utf-8') as f:\n",
    "    data = json.load(f)\n",
    "# Chuyển thành DataFrame để dễ xử lý\n",
    "df = pd.DataFrame(data)\n",
    "# Hiển thị thông tin cơ bản\n",
    "print(df['Label'].value_counts())  # Đếm số lượng từng nhãn\n"
   ]
  }
 ],
 "metadata": {
  "kernelspec": {
   "display_name": "Python 3",
   "language": "python",
   "name": "python3"
  },
  "language_info": {
   "codemirror_mode": {
    "name": "ipython",
    "version": 3
   },
   "file_extension": ".py",
   "mimetype": "text/x-python",
   "name": "python",
   "nbconvert_exporter": "python",
   "pygments_lexer": "ipython3",
   "version": "3.11.0"
  }
 },
 "nbformat": 4,
 "nbformat_minor": 2
}
